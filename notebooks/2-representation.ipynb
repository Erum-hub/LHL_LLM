{
  "cells": [
    {
      "cell_type": "markdown",
      "metadata": {
        "id": "view-in-github",
        "colab_type": "text"
      },
      "source": [
        "<a href=\"https://colab.research.google.com/github/Erum-hub/LHL_LLM/blob/main/notebooks/2-representation.ipynb\" target=\"_parent\"><img src=\"https://colab.research.google.com/assets/colab-badge.svg\" alt=\"Open In Colab\"/></a>"
      ]
    },
    {
      "cell_type": "code",
      "source": [
        "import pandas as pd\n",
        "from transformers import AutoTokenizer\n",
        "from sklearn.model_selection import train_test_split\n",
        "import torch\n",
        "\n",
        "# Load cleaned data\n",
        "df = pd.read_csv('cleaned_reviews.csv')\n",
        "\n",
        "# Split\n",
        "X_train, X_test, y_train, y_test = train_test_split(df['clean_text'], df['label'], test_size=0.2, random_state=42)\n",
        "\n",
        "# Tokenizer\n",
        "tokenizer = AutoTokenizer.from_pretrained(\"bert-base-uncased\")\n",
        "\n",
        "train_encodings = tokenizer(list(X_train), truncation=True, padding=True, return_tensors=\"pt\")\n",
        "test_encodings = tokenizer(list(X_test), truncation=True, padding=True, return_tensors=\"pt\")\n",
        "\n",
        "train_labels = torch.tensor(y_train.values)\n",
        "test_labels = torch.tensor(y_test.values)\n",
        "\n",
        "# Save for next step\n",
        "torch.save((train_encodings, train_labels), 'train_data.pt')\n",
        "torch.save((test_encodings, test_labels), 'test_data.pt')\n"
      ],
      "metadata": {
        "id": "eumfhyLZ7NCJ"
      },
      "execution_count": null,
      "outputs": []
    }
  ],
  "metadata": {
    "language_info": {
      "name": "python"
    },
    "orig_nbformat": 4,
    "colab": {
      "provenance": [],
      "include_colab_link": true
    },
    "kernelspec": {
      "name": "python3",
      "display_name": "Python 3"
    }
  },
  "nbformat": 4,
  "nbformat_minor": 0
}