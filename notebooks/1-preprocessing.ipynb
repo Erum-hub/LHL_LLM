{
  "cells": [
    {
      "cell_type": "code",
      "source": [
        "!git config --global user.name \"Erum-Hub\"\n",
        "!git config --global user.email \"e_farooqi@gmail.com\""
      ],
      "metadata": {
        "id": "lthrlRE-gXyr"
      },
      "execution_count": 31,
      "outputs": []
    },
    {
      "cell_type": "code",
      "source": [
        "# Clone the GitHub repository\n",
        "!git clone https://github.com/Erum-hub/LHL_LLM.git\n",
        "\n",
        "# Change directory to the cloned repository\n",
        "%cd LHL_LLM"
      ],
      "metadata": {
        "colab": {
          "base_uri": "https://localhost:8080/"
        },
        "id": "FpclpL4hZ00L",
        "outputId": "4fc61be6-edd5-47bb-bb54-52ae5c7a4d4f"
      },
      "execution_count": 32,
      "outputs": [
        {
          "output_type": "stream",
          "name": "stdout",
          "text": [
            "fatal: destination path 'LHL_LLM' already exists and is not an empty directory.\n",
            "/content/LHL_LLM/LHL_LLM\n"
          ]
        }
      ]
    },
    {
      "cell_type": "code",
      "source": [
        "# imports\n",
        "\n",
        "from datasets import load_dataset, Dataset, DatasetDict\n",
        "from nltk.corpus import stopwords\n",
        "import pandas as pd\n",
        "import seaborn as sns\n",
        "import string\n",
        "import os\n",
        "import re"
      ],
      "metadata": {
        "id": "gJimCQYfbmi3"
      },
      "execution_count": 33,
      "outputs": []
    },
    {
      "cell_type": "code",
      "source": [
        "from google.colab import files\n",
        "uploaded = files.upload()\n"
      ],
      "metadata": {
        "colab": {
          "base_uri": "https://localhost:8080/",
          "height": 73
        },
        "id": "xf4k-8S0Xv5q",
        "outputId": "8687130a-c6f5-45a9-f4f8-a124ea7f13de"
      },
      "execution_count": 34,
      "outputs": [
        {
          "output_type": "display_data",
          "data": {
            "text/plain": [
              "<IPython.core.display.HTML object>"
            ],
            "text/html": [
              "\n",
              "     <input type=\"file\" id=\"files-840ce724-e253-49d6-84b8-1673ec1b204c\" name=\"files[]\" multiple disabled\n",
              "        style=\"border:none\" />\n",
              "     <output id=\"result-840ce724-e253-49d6-84b8-1673ec1b204c\">\n",
              "      Upload widget is only available when the cell has been executed in the\n",
              "      current browser session. Please rerun this cell to enable.\n",
              "      </output>\n",
              "      <script>// Copyright 2017 Google LLC\n",
              "//\n",
              "// Licensed under the Apache License, Version 2.0 (the \"License\");\n",
              "// you may not use this file except in compliance with the License.\n",
              "// You may obtain a copy of the License at\n",
              "//\n",
              "//      http://www.apache.org/licenses/LICENSE-2.0\n",
              "//\n",
              "// Unless required by applicable law or agreed to in writing, software\n",
              "// distributed under the License is distributed on an \"AS IS\" BASIS,\n",
              "// WITHOUT WARRANTIES OR CONDITIONS OF ANY KIND, either express or implied.\n",
              "// See the License for the specific language governing permissions and\n",
              "// limitations under the License.\n",
              "\n",
              "/**\n",
              " * @fileoverview Helpers for google.colab Python module.\n",
              " */\n",
              "(function(scope) {\n",
              "function span(text, styleAttributes = {}) {\n",
              "  const element = document.createElement('span');\n",
              "  element.textContent = text;\n",
              "  for (const key of Object.keys(styleAttributes)) {\n",
              "    element.style[key] = styleAttributes[key];\n",
              "  }\n",
              "  return element;\n",
              "}\n",
              "\n",
              "// Max number of bytes which will be uploaded at a time.\n",
              "const MAX_PAYLOAD_SIZE = 100 * 1024;\n",
              "\n",
              "function _uploadFiles(inputId, outputId) {\n",
              "  const steps = uploadFilesStep(inputId, outputId);\n",
              "  const outputElement = document.getElementById(outputId);\n",
              "  // Cache steps on the outputElement to make it available for the next call\n",
              "  // to uploadFilesContinue from Python.\n",
              "  outputElement.steps = steps;\n",
              "\n",
              "  return _uploadFilesContinue(outputId);\n",
              "}\n",
              "\n",
              "// This is roughly an async generator (not supported in the browser yet),\n",
              "// where there are multiple asynchronous steps and the Python side is going\n",
              "// to poll for completion of each step.\n",
              "// This uses a Promise to block the python side on completion of each step,\n",
              "// then passes the result of the previous step as the input to the next step.\n",
              "function _uploadFilesContinue(outputId) {\n",
              "  const outputElement = document.getElementById(outputId);\n",
              "  const steps = outputElement.steps;\n",
              "\n",
              "  const next = steps.next(outputElement.lastPromiseValue);\n",
              "  return Promise.resolve(next.value.promise).then((value) => {\n",
              "    // Cache the last promise value to make it available to the next\n",
              "    // step of the generator.\n",
              "    outputElement.lastPromiseValue = value;\n",
              "    return next.value.response;\n",
              "  });\n",
              "}\n",
              "\n",
              "/**\n",
              " * Generator function which is called between each async step of the upload\n",
              " * process.\n",
              " * @param {string} inputId Element ID of the input file picker element.\n",
              " * @param {string} outputId Element ID of the output display.\n",
              " * @return {!Iterable<!Object>} Iterable of next steps.\n",
              " */\n",
              "function* uploadFilesStep(inputId, outputId) {\n",
              "  const inputElement = document.getElementById(inputId);\n",
              "  inputElement.disabled = false;\n",
              "\n",
              "  const outputElement = document.getElementById(outputId);\n",
              "  outputElement.innerHTML = '';\n",
              "\n",
              "  const pickedPromise = new Promise((resolve) => {\n",
              "    inputElement.addEventListener('change', (e) => {\n",
              "      resolve(e.target.files);\n",
              "    });\n",
              "  });\n",
              "\n",
              "  const cancel = document.createElement('button');\n",
              "  inputElement.parentElement.appendChild(cancel);\n",
              "  cancel.textContent = 'Cancel upload';\n",
              "  const cancelPromise = new Promise((resolve) => {\n",
              "    cancel.onclick = () => {\n",
              "      resolve(null);\n",
              "    };\n",
              "  });\n",
              "\n",
              "  // Wait for the user to pick the files.\n",
              "  const files = yield {\n",
              "    promise: Promise.race([pickedPromise, cancelPromise]),\n",
              "    response: {\n",
              "      action: 'starting',\n",
              "    }\n",
              "  };\n",
              "\n",
              "  cancel.remove();\n",
              "\n",
              "  // Disable the input element since further picks are not allowed.\n",
              "  inputElement.disabled = true;\n",
              "\n",
              "  if (!files) {\n",
              "    return {\n",
              "      response: {\n",
              "        action: 'complete',\n",
              "      }\n",
              "    };\n",
              "  }\n",
              "\n",
              "  for (const file of files) {\n",
              "    const li = document.createElement('li');\n",
              "    li.append(span(file.name, {fontWeight: 'bold'}));\n",
              "    li.append(span(\n",
              "        `(${file.type || 'n/a'}) - ${file.size} bytes, ` +\n",
              "        `last modified: ${\n",
              "            file.lastModifiedDate ? file.lastModifiedDate.toLocaleDateString() :\n",
              "                                    'n/a'} - `));\n",
              "    const percent = span('0% done');\n",
              "    li.appendChild(percent);\n",
              "\n",
              "    outputElement.appendChild(li);\n",
              "\n",
              "    const fileDataPromise = new Promise((resolve) => {\n",
              "      const reader = new FileReader();\n",
              "      reader.onload = (e) => {\n",
              "        resolve(e.target.result);\n",
              "      };\n",
              "      reader.readAsArrayBuffer(file);\n",
              "    });\n",
              "    // Wait for the data to be ready.\n",
              "    let fileData = yield {\n",
              "      promise: fileDataPromise,\n",
              "      response: {\n",
              "        action: 'continue',\n",
              "      }\n",
              "    };\n",
              "\n",
              "    // Use a chunked sending to avoid message size limits. See b/62115660.\n",
              "    let position = 0;\n",
              "    do {\n",
              "      const length = Math.min(fileData.byteLength - position, MAX_PAYLOAD_SIZE);\n",
              "      const chunk = new Uint8Array(fileData, position, length);\n",
              "      position += length;\n",
              "\n",
              "      const base64 = btoa(String.fromCharCode.apply(null, chunk));\n",
              "      yield {\n",
              "        response: {\n",
              "          action: 'append',\n",
              "          file: file.name,\n",
              "          data: base64,\n",
              "        },\n",
              "      };\n",
              "\n",
              "      let percentDone = fileData.byteLength === 0 ?\n",
              "          100 :\n",
              "          Math.round((position / fileData.byteLength) * 100);\n",
              "      percent.textContent = `${percentDone}% done`;\n",
              "\n",
              "    } while (position < fileData.byteLength);\n",
              "  }\n",
              "\n",
              "  // All done.\n",
              "  yield {\n",
              "    response: {\n",
              "      action: 'complete',\n",
              "    }\n",
              "  };\n",
              "}\n",
              "\n",
              "scope.google = scope.google || {};\n",
              "scope.google.colab = scope.google.colab || {};\n",
              "scope.google.colab._files = {\n",
              "  _uploadFiles,\n",
              "  _uploadFilesContinue,\n",
              "};\n",
              "})(self);\n",
              "</script> "
            ]
          },
          "metadata": {}
        },
        {
          "output_type": "stream",
          "name": "stdout",
          "text": [
            "Saving Customer_Reviews.csv to Customer_Reviews.csv\n"
          ]
        }
      ]
    },
    {
      "cell_type": "code",
      "source": [
        "!mv Customer_Reviews.csv /content/LHL_LLM/"
      ],
      "metadata": {
        "id": "E6Ov4gc8WfN4"
      },
      "execution_count": 35,
      "outputs": []
    },
    {
      "cell_type": "code",
      "source": [
        "%cd /content/LHL_LLM\n",
        "!git add Customer_Reviews.csv\n",
        "!git commit -m \"Add Customer_Reviews.csv\"\n",
        "!git push origin main  # or your branch name\n"
      ],
      "metadata": {
        "colab": {
          "base_uri": "https://localhost:8080/"
        },
        "id": "Lsnf7k3tZT_5",
        "outputId": "af7b6922-2fb1-40fa-b821-f57b404fabbe"
      },
      "execution_count": 36,
      "outputs": [
        {
          "output_type": "stream",
          "name": "stdout",
          "text": [
            "/content/LHL_LLM\n",
            "On branch main\n",
            "Your branch is ahead of 'origin/main' by 1 commit.\n",
            "  (use \"git push\" to publish your local commits)\n",
            "\n",
            "Untracked files:\n",
            "  (use \"git add <file>...\" to include in what will be committed)\n",
            "\t\u001b[31mCustomer_Reviews (1).csv\u001b[m\n",
            "\t\u001b[31mLHL_LLM/\u001b[m\n",
            "\n",
            "nothing added to commit but untracked files present (use \"git add\" to track)\n",
            "fatal: could not read Username for 'https://github.com': No such device or address\n"
          ]
        }
      ]
    },
    {
      "cell_type": "code",
      "source": [
        "from google.colab import drive\n",
        "drive.mount('/content/drive')"
      ],
      "metadata": {
        "id": "Fhjqh7Dza_na",
        "outputId": "e690c12d-5c6a-43df-f7ac-b066cd1e4ad3",
        "colab": {
          "base_uri": "https://localhost:8080/",
          "height": 321
        }
      },
      "execution_count": 37,
      "outputs": [
        {
          "output_type": "error",
          "ename": "MessageError",
          "evalue": "Error: credential propagation was unsuccessful",
          "traceback": [
            "\u001b[0;31m---------------------------------------------------------------------------\u001b[0m",
            "\u001b[0;31mMessageError\u001b[0m                              Traceback (most recent call last)",
            "\u001b[0;32m/tmp/ipython-input-37-1408506528.py\u001b[0m in \u001b[0;36m<cell line: 0>\u001b[0;34m()\u001b[0m\n\u001b[1;32m      1\u001b[0m \u001b[0;32mfrom\u001b[0m \u001b[0mgoogle\u001b[0m\u001b[0;34m.\u001b[0m\u001b[0mcolab\u001b[0m \u001b[0;32mimport\u001b[0m \u001b[0mdrive\u001b[0m\u001b[0;34m\u001b[0m\u001b[0;34m\u001b[0m\u001b[0m\n\u001b[0;32m----> 2\u001b[0;31m \u001b[0mdrive\u001b[0m\u001b[0;34m.\u001b[0m\u001b[0mmount\u001b[0m\u001b[0;34m(\u001b[0m\u001b[0;34m'/content/drive'\u001b[0m\u001b[0;34m)\u001b[0m\u001b[0;34m\u001b[0m\u001b[0;34m\u001b[0m\u001b[0m\n\u001b[0m",
            "\u001b[0;32m/usr/local/lib/python3.11/dist-packages/google/colab/drive.py\u001b[0m in \u001b[0;36mmount\u001b[0;34m(mountpoint, force_remount, timeout_ms, readonly)\u001b[0m\n\u001b[1;32m     98\u001b[0m \u001b[0;32mdef\u001b[0m \u001b[0mmount\u001b[0m\u001b[0;34m(\u001b[0m\u001b[0mmountpoint\u001b[0m\u001b[0;34m,\u001b[0m \u001b[0mforce_remount\u001b[0m\u001b[0;34m=\u001b[0m\u001b[0;32mFalse\u001b[0m\u001b[0;34m,\u001b[0m \u001b[0mtimeout_ms\u001b[0m\u001b[0;34m=\u001b[0m\u001b[0;36m120000\u001b[0m\u001b[0;34m,\u001b[0m \u001b[0mreadonly\u001b[0m\u001b[0;34m=\u001b[0m\u001b[0;32mFalse\u001b[0m\u001b[0;34m)\u001b[0m\u001b[0;34m:\u001b[0m\u001b[0;34m\u001b[0m\u001b[0;34m\u001b[0m\u001b[0m\n\u001b[1;32m     99\u001b[0m   \u001b[0;34m\"\"\"Mount your Google Drive at the specified mountpoint path.\"\"\"\u001b[0m\u001b[0;34m\u001b[0m\u001b[0;34m\u001b[0m\u001b[0m\n\u001b[0;32m--> 100\u001b[0;31m   return _mount(\n\u001b[0m\u001b[1;32m    101\u001b[0m       \u001b[0mmountpoint\u001b[0m\u001b[0;34m,\u001b[0m\u001b[0;34m\u001b[0m\u001b[0;34m\u001b[0m\u001b[0m\n\u001b[1;32m    102\u001b[0m       \u001b[0mforce_remount\u001b[0m\u001b[0;34m=\u001b[0m\u001b[0mforce_remount\u001b[0m\u001b[0;34m,\u001b[0m\u001b[0;34m\u001b[0m\u001b[0;34m\u001b[0m\u001b[0m\n",
            "\u001b[0;32m/usr/local/lib/python3.11/dist-packages/google/colab/drive.py\u001b[0m in \u001b[0;36m_mount\u001b[0;34m(mountpoint, force_remount, timeout_ms, ephemeral, readonly)\u001b[0m\n\u001b[1;32m    135\u001b[0m   )\n\u001b[1;32m    136\u001b[0m   \u001b[0;32mif\u001b[0m \u001b[0mephemeral\u001b[0m\u001b[0;34m:\u001b[0m\u001b[0;34m\u001b[0m\u001b[0;34m\u001b[0m\u001b[0m\n\u001b[0;32m--> 137\u001b[0;31m     _message.blocking_request(\n\u001b[0m\u001b[1;32m    138\u001b[0m         \u001b[0;34m'request_auth'\u001b[0m\u001b[0;34m,\u001b[0m\u001b[0;34m\u001b[0m\u001b[0;34m\u001b[0m\u001b[0m\n\u001b[1;32m    139\u001b[0m         \u001b[0mrequest\u001b[0m\u001b[0;34m=\u001b[0m\u001b[0;34m{\u001b[0m\u001b[0;34m'authType'\u001b[0m\u001b[0;34m:\u001b[0m \u001b[0;34m'dfs_ephemeral'\u001b[0m\u001b[0;34m}\u001b[0m\u001b[0;34m,\u001b[0m\u001b[0;34m\u001b[0m\u001b[0;34m\u001b[0m\u001b[0m\n",
            "\u001b[0;32m/usr/local/lib/python3.11/dist-packages/google/colab/_message.py\u001b[0m in \u001b[0;36mblocking_request\u001b[0;34m(request_type, request, timeout_sec, parent)\u001b[0m\n\u001b[1;32m    174\u001b[0m       \u001b[0mrequest_type\u001b[0m\u001b[0;34m,\u001b[0m \u001b[0mrequest\u001b[0m\u001b[0;34m,\u001b[0m \u001b[0mparent\u001b[0m\u001b[0;34m=\u001b[0m\u001b[0mparent\u001b[0m\u001b[0;34m,\u001b[0m \u001b[0mexpect_reply\u001b[0m\u001b[0;34m=\u001b[0m\u001b[0;32mTrue\u001b[0m\u001b[0;34m\u001b[0m\u001b[0;34m\u001b[0m\u001b[0m\n\u001b[1;32m    175\u001b[0m   )\n\u001b[0;32m--> 176\u001b[0;31m   \u001b[0;32mreturn\u001b[0m \u001b[0mread_reply_from_input\u001b[0m\u001b[0;34m(\u001b[0m\u001b[0mrequest_id\u001b[0m\u001b[0;34m,\u001b[0m \u001b[0mtimeout_sec\u001b[0m\u001b[0;34m)\u001b[0m\u001b[0;34m\u001b[0m\u001b[0;34m\u001b[0m\u001b[0m\n\u001b[0m",
            "\u001b[0;32m/usr/local/lib/python3.11/dist-packages/google/colab/_message.py\u001b[0m in \u001b[0;36mread_reply_from_input\u001b[0;34m(message_id, timeout_sec)\u001b[0m\n\u001b[1;32m    101\u001b[0m     ):\n\u001b[1;32m    102\u001b[0m       \u001b[0;32mif\u001b[0m \u001b[0;34m'error'\u001b[0m \u001b[0;32min\u001b[0m \u001b[0mreply\u001b[0m\u001b[0;34m:\u001b[0m\u001b[0;34m\u001b[0m\u001b[0;34m\u001b[0m\u001b[0m\n\u001b[0;32m--> 103\u001b[0;31m         \u001b[0;32mraise\u001b[0m \u001b[0mMessageError\u001b[0m\u001b[0;34m(\u001b[0m\u001b[0mreply\u001b[0m\u001b[0;34m[\u001b[0m\u001b[0;34m'error'\u001b[0m\u001b[0;34m]\u001b[0m\u001b[0;34m)\u001b[0m\u001b[0;34m\u001b[0m\u001b[0;34m\u001b[0m\u001b[0m\n\u001b[0m\u001b[1;32m    104\u001b[0m       \u001b[0;32mreturn\u001b[0m \u001b[0mreply\u001b[0m\u001b[0;34m.\u001b[0m\u001b[0mget\u001b[0m\u001b[0;34m(\u001b[0m\u001b[0;34m'data'\u001b[0m\u001b[0;34m,\u001b[0m \u001b[0;32mNone\u001b[0m\u001b[0;34m)\u001b[0m\u001b[0;34m\u001b[0m\u001b[0;34m\u001b[0m\u001b[0m\n\u001b[1;32m    105\u001b[0m \u001b[0;34m\u001b[0m\u001b[0m\n",
            "\u001b[0;31mMessageError\u001b[0m: Error: credential propagation was unsuccessful"
          ]
        }
      ]
    },
    {
      "cell_type": "code",
      "source": [
        "import pandas as pd\n",
        "import re"
      ],
      "metadata": {
        "id": "CQtblvjyxdvH"
      },
      "execution_count": 38,
      "outputs": []
    },
    {
      "cell_type": "code",
      "source": [
        "# Creating a directory to save data as csv\n",
        "\n",
        "current_dir = os.getcwd()\n",
        "main_dir = os.path.abspath(os.path.join(current_dir, '..'))\n",
        "data_dir = os.path.abspath(os.path.join(main_dir, 'data'))\n",
        "os.makedirs(data_dir, exist_ok=True)"
      ],
      "metadata": {
        "id": "Q94qLU-dbabQ"
      },
      "execution_count": 39,
      "outputs": []
    },
    {
      "cell_type": "code",
      "source": [
        "# Load dataset\n",
        "df = pd.read_csv('/content/LHL_LLM/Customer_Reviews.csv')"
      ],
      "metadata": {
        "id": "ul-0pjSmxidu"
      },
      "execution_count": 40,
      "outputs": []
    },
    {
      "cell_type": "code",
      "source": [
        "# Inspect\n",
        "print(df.head())"
      ],
      "metadata": {
        "colab": {
          "base_uri": "https://localhost:8080/"
        },
        "id": "cAY1xlO_xs32",
        "outputId": "638e37fd-ce64-460a-b835-af40aa6907ef"
      },
      "execution_count": 41,
      "outputs": [
        {
          "output_type": "stream",
          "name": "stdout",
          "text": [
            "   Unnamed: 0                                          book name  \\\n",
            "0          17  Friends, Lovers, and the Big Terrible Thing: A...   \n",
            "1         131                      Lessons in Chemistry: A Novel   \n",
            "2         464                           Flash Cards: Sight Words   \n",
            "3         644  A Court of Mist and Fury (A Court of Thorns an...   \n",
            "4          78  The Ballad of Songbirds and Snakes (A Hunger G...   \n",
            "\n",
            "                                        review title          reviewer  \\\n",
            "0                                    A very sad read  Veronica R Ewing   \n",
            "1                    I LOVE THIS BOOK!! 😍 ⭐️⭐️⭐️⭐️⭐️             Sonia   \n",
            "2                     Amazing for struggling readers     Ryan Williams   \n",
            "3  The ending was stunning, as always, but I had ...          Brittany   \n",
            "4                                         So Good!!!   Kindle Customer   \n",
            "\n",
            "   reviewer rating                                 review description  \\\n",
            "0                4  What a shock to lose such a talented and funny...   \n",
            "1                5  Oh, my God!! I LOVE THIS BOOK SO, SO, SO MUCH!...   \n",
            "2                5  I bought these for my son who was struggling r...   \n",
            "3                4  ** Warning: This is NOT a spoiler-free review ...   \n",
            "4                5  If you loved the Hunger Games, you have to rea...   \n",
            "\n",
            "   is_verified        date                                         timestamp  \\\n",
            "0         True  30-10-2023    Reviewed in the United States October 30, 2023   \n",
            "1         True  24-10-2023    Reviewed in the United States October 24, 2023   \n",
            "2         True  29-09-2023  Reviewed in the United States September 29, 2023   \n",
            "3         True  29-06-2016       Reviewed in the United States June 29, 2016   \n",
            "4         True  29-10-2023    Reviewed in the United States October 29, 2023   \n",
            "\n",
            "         ASIN           Author  \n",
            "0  1250866448    Matthew Perry  \n",
            "1  038554734X    Bonnie Garmus  \n",
            "2  1338233580       Scholastic  \n",
            "3  1635575583    Sarah J. Maas  \n",
            "4  1339016575  Suzanne Collins  \n"
          ]
        }
      ]
    },
    {
      "cell_type": "code",
      "source": [
        "# Count unique values in the 'review title' column\n",
        "unique_count = df['review title'].nunique()\n",
        "print(f\"Number of unique review titles: {unique_count}\")"
      ],
      "metadata": {
        "id": "72-Acxls3D0x",
        "outputId": "c04d5c1d-debc-438a-d58c-f3952bd96117",
        "colab": {
          "base_uri": "https://localhost:8080/"
        }
      },
      "execution_count": 42,
      "outputs": [
        {
          "output_type": "stream",
          "name": "stdout",
          "text": [
            "Number of unique review titles: 819\n"
          ]
        }
      ]
    },
    {
      "cell_type": "code",
      "source": [
        "top_titles = df['review title'].value_counts().head(10)\n",
        "print(top_titles)\n"
      ],
      "metadata": {
        "id": "V57LNSgJ3epV",
        "outputId": "841e3f6f-37dd-403f-dd7f-df2ea1886246",
        "colab": {
          "base_uri": "https://localhost:8080/"
        }
      },
      "execution_count": 43,
      "outputs": [
        {
          "output_type": "stream",
          "name": "stdout",
          "text": [
            "review title\n",
            "Great book     14\n",
            "Cute book      10\n",
            "Book            6\n",
            "Cute            5\n",
            "Love it         4\n",
            "Great book!     4\n",
            "Great           4\n",
            "Perfect         3\n",
            "Loved it!       3\n",
            "Love            3\n",
            "Name: count, dtype: int64\n"
          ]
        }
      ]
    },
    {
      "cell_type": "code",
      "source": [
        "top_title_list = top_titles.index.tolist()\n",
        "df['title_group'] = df['review title'].apply(lambda x: x if x in top_title_list else 'Other')\n"
      ],
      "metadata": {
        "id": "qhC3fyjD3obs"
      },
      "execution_count": 44,
      "outputs": []
    },
    {
      "cell_type": "code",
      "source": [
        "# Combine review title and description\n",
        "df['text'] = df['review title'].fillna('') + '. ' + df['review description'].fillna('')\n",
        "\n",
        "# Clean text\n",
        "def clean_text(text):\n",
        "    text = re.sub(r\"[^a-zA-Z\\s]\", \"\", str(text))\n",
        "    return text.lower().strip()\n",
        "\n",
        "df['clean_text'] = df['text'].apply(clean_text)\n"
      ],
      "metadata": {
        "id": "kmK_K6wCxyol"
      },
      "execution_count": 45,
      "outputs": []
    },
    {
      "cell_type": "code",
      "source": [
        "import nltk\n",
        "from nltk.corpus import stopwords\n",
        "\n",
        "# Download stopwords if not already present\n",
        "nltk.download('stopwords')\n",
        "\n",
        "# Define stopword set\n",
        "stop_words = set(stopwords.words('english'))\n",
        "\n",
        "# Function to remove stopwords\n",
        "def remove_stopwords(text):\n",
        "    words = text.split()\n",
        "    filtered = [word for word in words if word not in stop_words]\n",
        "    return ' '.join(filtered)\n",
        "\n",
        "# Apply to cleaned text\n",
        "df['clean_text_nostop'] = df['clean_text'].apply(remove_stopwords)\n",
        "\n",
        "# Rename the column\n",
        "df = df.rename(columns={'clean_text_nostop': 'sentiment'})\n",
        "\n"
      ],
      "metadata": {
        "colab": {
          "base_uri": "https://localhost:8080/"
        },
        "id": "Tm7R1UqvEpSb",
        "outputId": "1272cac4-15a9-46e9-f077-b509eced9e54"
      },
      "execution_count": 46,
      "outputs": [
        {
          "output_type": "stream",
          "name": "stderr",
          "text": [
            "[nltk_data] Downloading package stopwords to /root/nltk_data...\n",
            "[nltk_data]   Unzipping corpora/stopwords.zip.\n"
          ]
        }
      ]
    },
    {
      "cell_type": "code",
      "source": [
        "# Keep only the last occurrence of 'sentiment'\n",
        "df = df.loc[:, ~df.columns.duplicated(keep='last')]\n"
      ],
      "metadata": {
        "id": "ubebzgkHIJM9"
      },
      "execution_count": 47,
      "outputs": []
    },
    {
      "cell_type": "code",
      "source": [
        "# prompt: show headers\n",
        "\n",
        "df.columns"
      ],
      "metadata": {
        "colab": {
          "base_uri": "https://localhost:8080/"
        },
        "id": "7ltRq107eWMA",
        "outputId": "fa4b7635-d969-4f1a-fbc0-a13a99d55ad2"
      },
      "execution_count": 48,
      "outputs": [
        {
          "output_type": "execute_result",
          "data": {
            "text/plain": [
              "Index(['Unnamed: 0', 'book name', 'review title', 'reviewer',\n",
              "       'reviewer rating', 'review description', 'is_verified', 'date',\n",
              "       'timestamp', 'ASIN', 'Author', 'title_group', 'text', 'clean_text',\n",
              "       'sentiment'],\n",
              "      dtype='object')"
            ]
          },
          "metadata": {},
          "execution_count": 48
        }
      ]
    },
    {
      "cell_type": "code",
      "source": [
        "df[['sentiment', 'reviewer rating']].dropna().to_csv('cleaned_reviews.csv', index=False)\n"
      ],
      "metadata": {
        "id": "4QmxxwtlHTqG"
      },
      "execution_count": 49,
      "outputs": []
    },
    {
      "cell_type": "code",
      "source": [
        "# Define labeling function\n",
        "def classify_sentiment(text):\n",
        "    text = text.lower()\n",
        "    if any(word in text for word in ['excellent', 'great', 'love', 'amazing', 'perfect', 'recommend', 'good']):\n",
        "        return 'recommended'\n",
        "    elif any(word in text for word in ['bad', 'poor', 'terrible', 'worst', 'disappointed', 'not recommend']):\n",
        "        return 'not recommended'\n",
        "    else:\n",
        "        return 'neutral'\n",
        "\n",
        "# Apply function to sentiment column\n",
        "df['label'] = df['sentiment'].apply(classify_sentiment)\n"
      ],
      "metadata": {
        "id": "1J03H1fAWwpc"
      },
      "execution_count": 50,
      "outputs": []
    },
    {
      "cell_type": "code",
      "source": [
        "# prompt: Using dataframe df: convert in csv\n",
        "\n",
        "df.to_csv(\"df.csv\")"
      ],
      "metadata": {
        "id": "4PkEwJF8XG8x"
      },
      "execution_count": 51,
      "outputs": []
    },
    {
      "source": [
        " #@title label\n",
        "\n",
        "from matplotlib import pyplot as plt\n",
        "import seaborn as sns\n",
        "df.groupby('label').size().plot(kind='barh', color=sns.palettes.mpl_palette('Dark2'))\n",
        "plt.gca().spines[['top', 'right',]].set_visible(False)"
      ],
      "cell_type": "code",
      "execution_count": 52,
      "outputs": [
        {
          "output_type": "display_data",
          "data": {
            "text/plain": [
              "<Figure size 640x480 with 1 Axes>"
            ],
            "image/png": "[encoded data removed]"
          },
          "metadata": {}
        }
      ],
      "metadata": {
        "colab": {
          "base_uri": "https://localhost:8080/",
          "height": 430
        },
        "id": "WNnTVprEW_0q",
        "outputId": "60421c1f-0bc7-4dfb-f02c-02e210515116"
      }
    },
    {
      "cell_type": "markdown",
      "source": [
        "Dataset has many more examples of recommended than others. Class imbalance problem."
      ],
      "metadata": {
        "id": "kgvdN3yyZUBD"
      }
    },
    {
      "source": [
        "# @title label vs reviewer rating\n",
        "\n",
        "from matplotlib import pyplot as plt\n",
        "import seaborn as sns\n",
        "figsize = (12, 1.2 * len(df['label'].unique()))\n",
        "plt.figure(figsize=figsize)\n",
        "sns.violinplot(df, x='reviewer rating', y='label', inner='box', palette='Dark2')\n",
        "sns.despine(top=True, right=True, bottom=True, left=True)"
      ],
      "cell_type": "code",
      "execution_count": 53,
      "outputs": [
        {
          "output_type": "stream",
          "name": "stderr",
          "text": [
            "/tmp/ipython-input-53-3740740557.py:7: FutureWarning: \n",
            "\n",
            "Passing `palette` without assigning `hue` is deprecated and will be removed in v0.14.0. Assign the `y` variable to `hue` and set `legend=False` for the same effect.\n",
            "\n",
            "  sns.violinplot(df, x='reviewer rating', y='label', inner='box', palette='Dark2')\n"
          ]
        },
        {
          "output_type": "display_data",
          "data": {
            "text/plain": [
              "<Figure size 1200x360 with 1 Axes>"
            ],
            "image/png": "[encoded data removed]"
          },
          "metadata": {}
        }
      ],
      "metadata": {
        "colab": {
          "base_uri": "https://localhost:8080/",
          "height": 403
        },
        "id": "ug0qWlW1W7xh",
        "outputId": "ac8b4a29-9847-4d27-f947-d58ddc2deded"
      }
    },
    {
      "cell_type": "markdown",
      "source": [
        "reviewer ratings (e.g., stars or numeric scores) does'nt  seem to align with the sentiment expressed in the review text."
      ],
      "metadata": {
        "id": "GqdAbhUiY6Xq"
      }
    },
    {
      "cell_type": "code",
      "source": [
        "# Assuming labels are already mapped as:\n",
        "# 0 → recommended\n",
        "# 1 → not recommended\n",
        "# 2 → neutral\n",
        "recommended = df[df['label'] == 'recommended']\n",
        "not_recommended = df[df['label'] == 'not recommended']\n",
        "neutral = df[df['label'] == 'neutral']"
      ],
      "metadata": {
        "id": "fg_NIvDKsDmi"
      },
      "execution_count": 54,
      "outputs": []
    },
    {
      "cell_type": "markdown",
      "source": [],
      "metadata": {
        "id": "XttEJICCsGt6"
      }
    },
    {
      "cell_type": "code",
      "source": [
        "print(\"Class distribution:\")\n",
        "print(df['label'].value_counts())\n"
      ],
      "metadata": {
        "colab": {
          "base_uri": "https://localhost:8080/"
        },
        "id": "lTgZ_18JrsEx",
        "outputId": "71794ec8-1ceb-489e-e90a-d9d7ffe7e6ef"
      },
      "execution_count": 55,
      "outputs": [
        {
          "output_type": "stream",
          "name": "stdout",
          "text": [
            "Class distribution:\n",
            "label\n",
            "recommended        719\n",
            "neutral            181\n",
            "not recommended     10\n",
            "Name: count, dtype: int64\n"
          ]
        }
      ]
    },
    {
      "cell_type": "code",
      "source": [
        "from sklearn.utils import resample\n",
        "\n",
        "# Find the majority class size\n",
        "max_size = max(len(recommended), len(not_recommended), len(neutral))\n",
        "\n",
        "# Upsample each class to match the majority size\n",
        "recommended_upsampled = resample(recommended, replace=True, n_samples=max_size, random_state=42)\n",
        "not_recommended_upsampled = resample(not_recommended, replace=True, n_samples=max_size, random_state=42)\n",
        "neutral_upsampled = resample(neutral, replace=True, n_samples=max_size, random_state=42)\n",
        "\n",
        "# Combine into a balanced dataset\n",
        "df_balanced = pd.concat([recommended_upsampled, not_recommended_upsampled, neutral_upsampled])\n"
      ],
      "metadata": {
        "id": "JgBl4TYoru1M"
      },
      "execution_count": 56,
      "outputs": []
    },
    {
      "cell_type": "code",
      "source": [
        "from sklearn.utils import shuffle\n",
        "df_balanced = shuffle(df_balanced, random_state=42).reset_index(drop=True)\n"
      ],
      "metadata": {
        "id": "yFTzzKvgrx0B"
      },
      "execution_count": 57,
      "outputs": []
    },
    {
      "cell_type": "code",
      "source": [
        "# from sklearn.utils import resample\n",
        "\n",
        "# # Separate classes\n",
        "# majority = df[df['label'] == 'recommended']\n",
        "# minority = df[df['label'] != 'recommended']\n",
        "\n",
        "# # Downsample majority\n",
        "# majority_downsampled = resample(majority,\n",
        "#                                 replace=False,\n",
        "#                                 n_samples=len(minority),\n",
        "#                                 random_state=42)\n",
        "# neutral_upsampled = resample(\n",
        "#     neutral,\n",
        "#     replace=True,\n",
        "#     n_samples=len(recommended),\n",
        "#     random_state=42\n",
        "# )\n",
        "\n",
        "# df_balanced = pd.concat([recommended, not_recommended_upsampled, neutral_upsampled])\n",
        "\n"
      ],
      "metadata": {
        "id": "_uqcGFw5Zskg"
      },
      "execution_count": 58,
      "outputs": []
    },
    {
      "cell_type": "code",
      "source": [
        "# prompt: suggest bar chart\n",
        "\n",
        "sentiment_counts = df_balanced['label'].value_counts()\n",
        "\n",
        "plt.figure(figsize=(8, 6))\n",
        "sentiment_counts.plot(kind='bar', color=['skyblue', 'salmon', 'lightgreen'])\n",
        "plt.title('Distribution of Sentiment Labels (Balanced Dataset)')\n",
        "plt.xlabel('Sentiment Label')\n",
        "plt.ylabel('Number of Reviews')\n",
        "plt.xticks(rotation=0)\n",
        "plt.grid(axis='y', linestyle='--', alpha=0.7)\n",
        "plt.show()\n"
      ],
      "metadata": {
        "id": "-O2ww4CSZ5xR"
      },
      "execution_count": null,
      "outputs": []
    },
    {
      "cell_type": "code",
      "source": [
        "# # train test split\n",
        "# from sklearn.model_selection import train_test_split\n",
        "\n",
        "# X = df_balanced['sentiment']\n",
        "# y = df_balanced['label']\n",
        "\n",
        "# X_train, X_test, y_train, y_test = train_test_split(\n",
        "#     X, y, test_size=0.2, stratify=y, random_state=42\n",
        ")\n"
      ],
      "metadata": {
        "id": "l5i07HeQcJrd"
      },
      "execution_count": null,
      "outputs": []
    },
    {
      "cell_type": "code",
      "source": [],
      "metadata": {
        "id": "b00RQ3pHf3a2"
      },
      "execution_count": null,
      "outputs": []
    },
    {
      "cell_type": "markdown",
      "source": [
        "Can delete this below"
      ],
      "metadata": {
        "id": "xfWWsmWwn1g0"
      }
    },
    {
      "cell_type": "code",
      "source": [
        "print(df['label'].value_counts())\n",
        "print(\"Unique labels:\", sorted(df['label'].unique()))\n"
      ],
      "metadata": {
        "id": "_7v-gF_Gn0Eq"
      },
      "execution_count": null,
      "outputs": []
    },
    {
      "cell_type": "code",
      "source": [
        "label_map = {\n",
        "    'recommended': 0,\n",
        "    'not recommended': 1,\n",
        "    'neutral': 2\n",
        "}\n",
        "\n",
        "df = df[df['label'].isin(label_map.keys())]  # Filter out any unexpected labels\n",
        "df['label'] = df['label'].map(label_map)\n"
      ],
      "metadata": {
        "id": "VmemRq8XoPgo"
      },
      "execution_count": null,
      "outputs": []
    },
    {
      "cell_type": "markdown",
      "source": [
        "2-Representation -Tokenization"
      ],
      "metadata": {
        "id": "gn5kVnZam1tg"
      }
    },
    {
      "cell_type": "code",
      "source": [
        "import pandas as pd\n",
        "from transformers import AutoTokenizer\n",
        "from sklearn.model_selection import train_test_split\n",
        "import torch\n",
        "\n",
        "# Load cleaned data\n",
        "df = pd.read_csv('df.csv')\n",
        "\n",
        "# Train-test split\n",
        "X_train, X_test, y_train, y_test = train_test_split(df['sentiment'], df['label'], test_size=0.2, random_state=42)\n",
        "\n",
        "# Tokenizer\n",
        "tokenizer = AutoTokenizer.from_pretrained(\"bert-base-uncased\")\n",
        "\n",
        "train_encodings = tokenizer(list(X_train), truncation=True, padding=True, return_tensors=\"pt\")\n",
        "test_encodings = tokenizer(list(X_test), truncation=True, padding=True, return_tensors=\"pt\")"
      ],
      "metadata": {
        "id": "b0PfT21fmnTG"
      },
      "execution_count": null,
      "outputs": []
    },
    {
      "cell_type": "code",
      "source": [
        "import torch\n",
        "\n",
        "# Load the saved data\n",
        "train_encodings, train_labels = torch.load('train_data.pt', weights_only=False)\n",
        "test_encodings, test_labels = torch.load('test_data.pt', weights_only=False)\n",
        "\n",
        "\n",
        "# Inspect the keys and shapes\n",
        "print(\"Train Encodings Keys:\", train_encodings.keys())\n",
        "print(\"Train Input IDs Shape:\", train_encodings['input_ids'].shape)\n",
        "print(\"Train Attention Mask Shape:\", train_encodings['attention_mask'].shape)\n",
        "print(\"Train Labels Shape:\", train_labels.shape)\n",
        "\n",
        "print(\"\\nTest Input IDs Shape:\", test_encodings['input_ids'].shape)\n",
        "print(\"Test Labels Shape:\", test_labels.shape)\n",
        "\n"
      ],
      "metadata": {
        "id": "81lxz0EyNpDV"
      },
      "execution_count": null,
      "outputs": []
    },
    {
      "cell_type": "markdown",
      "source": [
        "3- Pretrained_Model"
      ],
      "metadata": {
        "id": "RAdJYbgU9187"
      }
    },
    {
      "cell_type": "code",
      "source": [
        "from torch.utils.data import Dataset, DataLoader\n",
        "from transformers import AutoModelForSequenceClassification\n",
        "from torch.optim import AdamW\n",
        "\n",
        "class ReviewDataset(Dataset):\n",
        "    def __init__(self, encodings, labels):\n",
        "        self.encodings = encodings\n",
        "        self.labels = labels\n",
        "    def __getitem__(self, idx):\n",
        "        return {\n",
        "            'input_ids': self.encodings['input_ids'][idx],\n",
        "            'attention_mask': self.encodings['attention_mask'][idx],\n",
        "            'labels': self.labels[idx]\n",
        "        }\n",
        "    def __len__(self):\n",
        "        return len(self.labels)\n",
        "\n",
        "train_dataset = ReviewDataset(train_encodings, train_labels)\n",
        "test_dataset = ReviewDataset(test_encodings, test_labels)\n",
        "\n",
        "train_loader = DataLoader(train_dataset, batch_size=4, shuffle=True)\n",
        "test_loader = DataLoader(test_dataset, batch_size=4)\n",
        "\n",
        "# Load model for 3 classes\n",
        "device = torch.device(\"cuda\" if torch.cuda.is_available() else \"cpu\")\n",
        "model = AutoModelForSequenceClassification.from_pretrained(\"bert-base-uncased\", num_labels=3)\n",
        "model.to(device)\n",
        "optimizer = AdamW(model.parameters(), lr=5e-5)\n",
        "\n"
      ],
      "metadata": {
        "id": "wXpKVj2I99Po"
      },
      "execution_count": null,
      "outputs": []
    },
    {
      "cell_type": "code",
      "source": [
        "# import torch\n",
        "# from torch.utils.data import Dataset, DataLoader\n",
        "# from torch.optim import AdamW\n",
        "# from transformers import AutoTokenizer, AutoModelForSequenceClassification\n",
        "# from sklearn.metrics import classification_report\n",
        "# from tqdm import tqdm\n",
        "\n",
        "# # Set device\n",
        "# device = torch.device(\"cuda\" if torch.cuda.is_available() else \"cpu\")\n",
        "# print(f\"Using device: {device}\")\n",
        "\n",
        "# # Load tokenizer and model\n",
        "# tokenizer = AutoTokenizer.from_pretrained(\"bert-base-uncased\")\n",
        "# model = AutoModelForSequenceClassification.from_pretrained(\"bert-base-uncased\", num_labels=3)\n",
        "# model.to(device)\n",
        "\n",
        "# # Load preprocessed data\n",
        "# train_encodings, train_labels = torch.load('train_data.pt', weights_only=False)\n",
        "# test_encodings, test_labels = torch.load('test_data.pt', weights_only=False)\n",
        "\n",
        "# # Dataset class\n",
        "# class ReviewDataset(Dataset):\n",
        "#     def __init__(self, encodings, labels):\n",
        "#         self.encodings = encodings\n",
        "#         self.labels = labels\n",
        "#     def __getitem__(self, idx):\n",
        "#         return {\n",
        "#             'input_ids': self.encodings['input_ids'][idx],\n",
        "#             'attention_mask': self.encodings['attention_mask'][idx],\n",
        "#             'labels': self.labels[idx]\n",
        "#         }\n",
        "#     def __len__(self):\n",
        "#         return len(self.labels)\n",
        "\n",
        "# # Create datasets and loaders\n",
        "# train_dataset = ReviewDataset(train_encodings, train_labels)\n",
        "# test_dataset = ReviewDataset(test_encodings, test_labels)\n",
        "\n",
        "# train_loader = DataLoader(train_dataset, batch_size=8, shuffle=True)\n",
        "# test_loader = DataLoader(test_dataset, batch_size=8)\n",
        "\n",
        "# # Optimizer\n",
        "# optimizer = AdamW(model.parameters(), lr=5e-5)\n",
        "\n",
        "# # Training loop\n",
        "# epochs = 3\n",
        "# for epoch in range(epochs):\n",
        "#     model.train()\n",
        "#     total_loss = 0\n",
        "#     loop = tqdm(train_loader, desc=f\"Epoch {epoch+1}/{epochs}\", leave=True)\n",
        "\n",
        "#     for batch in loop:\n",
        "#         optimizer.zero_grad()\n",
        "#         input_ids = batch['input_ids'].to(device)\n",
        "#         attention_mask = batch['attention_mask'].to(device)\n",
        "#         labels = batch['labels'].to(device)\n",
        "\n",
        "#         outputs = model(input_ids, attention_mask=attention_mask, labels=labels)\n",
        "#         loss = outputs.loss\n",
        "#         loss.backward()\n",
        "#         optimizer.step()\n",
        "\n",
        "#         total_loss += loss.item()\n",
        "#         loop.set_postfix(loss=loss.item())\n",
        "\n",
        "#         del input_ids, attention_mask, labels, outputs\n",
        "#         torch.cuda.empty_cache()\n",
        "\n",
        "#     avg_loss = total_loss / len(train_loader)\n",
        "#     print(f\"✅ Epoch {epoch+1} completed — Average Loss: {avg_loss:.4f}\")\n",
        "\n",
        "# # Save the final model\n",
        "# model.save_pretrained(\"sentiment_model\")\n",
        "# tokenizer.save_pretrained(\"sentiment_model\")\n",
        "\n",
        "# # Evaluation\n",
        "# model.eval()\n",
        "# predictions, true_labels = [], []\n",
        "\n",
        "# with torch.no_grad():\n",
        "#     for batch in test_loader:\n",
        "#         input_ids = batch['input_ids'].to(device)\n",
        "#         attention_mask = batch['attention_mask'].to(device)\n",
        "#         labels = batch['labels'].to(device)\n",
        "\n",
        "#         outputs = model(input_ids, attention_mask=attention_mask)\n",
        "#         preds = torch.argmax(outputs.logits, dim=1)\n",
        "\n",
        "#         predictions.extend(preds.cpu().numpy())\n",
        "#         true_labels.extend(labels.cpu().numpy())\n",
        "\n",
        "# print(\"\\n📊 Classification Report:\")\n",
        "# print(classification_report(true_labels, predictions, target_names=[\"recommended\", \"not recommended\", \"neutral\"]))\n",
        "\n",
        "\n"
      ],
      "metadata": {
        "id": "CDY3CTmeNI-m"
      },
      "execution_count": null,
      "outputs": []
    },
    {
      "cell_type": "code",
      "source": [
        "from tqdm import tqdm\n",
        "\n",
        "for epoch in range(3):\n",
        "    total_loss = 0\n",
        "    model.train()\n",
        "    loop = tqdm(train_loader, leave=True)\n",
        "    for batch in loop:\n",
        "        optimizer.zero_grad()\n",
        "        input_ids = batch['input_ids'].to(device)\n",
        "        attention_mask = batch['attention_mask'].to(device)\n",
        "        labels = batch['labels'].to(device)\n",
        "\n",
        "        outputs = model(input_ids, attention_mask=attention_mask, labels=labels)\n",
        "        loss = outputs.loss\n",
        "\n",
        "        loss.backward()\n",
        "        optimizer.step()\n",
        "        total_loss += loss.item()\n",
        "\n",
        "        loop.set_description(f\"Epoch {epoch+1}\")\n",
        "        loop.set_postfix(loss=loss.item())\n",
        "\n",
        "        del input_ids, attention_mask, labels, outputs\n",
        "        torch.cuda.empty_cache()\n",
        "\n",
        "    avg_loss = total_loss / len(train_loader)\n",
        "    print(f\"Epoch {epoch+1} - Average Loss: {avg_loss:.4f}\")\n"
      ],
      "metadata": {
        "id": "zwAUhyDcpKWh"
      },
      "execution_count": null,
      "outputs": []
    },
    {
      "cell_type": "markdown",
      "source": [
        "# 4. **Optimization**"
      ],
      "metadata": {
        "id": "sTB8pPaz-SkG"
      }
    },
    {
      "cell_type": "code",
      "source": [
        "import torch\n",
        "from torch.utils.data import Dataset, DataLoader\n",
        "from torch.optim import AdamW\n",
        "from sklearn.metrics import accuracy_score\n",
        "from transformers import AutoModelForSequenceClassification\n"
      ],
      "metadata": {
        "id": "WOW-XvS5-Akp"
      },
      "execution_count": null,
      "outputs": []
    },
    {
      "cell_type": "code",
      "source": [
        "\n",
        "# Set random seed for reproducibility\n",
        "torch.manual_seed(42)\n"
      ],
      "metadata": {
        "id": "4K0di4a7BPs7"
      },
      "execution_count": null,
      "outputs": []
    },
    {
      "cell_type": "code",
      "source": [
        "\n",
        "# Load data (ensure weights_only=False for PyTorch 2.6+)\n",
        "train_encodings, train_labels = torch.load('train_data.pt', weights_only=False)\n",
        "test_encodings, test_labels = torch.load('test_data.pt', weights_only=False)\n"
      ],
      "metadata": {
        "id": "opLCyJlqBXyV"
      },
      "execution_count": null,
      "outputs": []
    },
    {
      "cell_type": "code",
      "source": [
        "# Dataset class\n",
        "class ReviewDataset(Dataset):\n",
        "    def __init__(self, encodings, labels):\n",
        "        self.encodings = encodings\n",
        "        self.labels = labels\n",
        "    def __getitem__(self, idx):\n",
        "        return {\n",
        "            'input_ids': self.encodings['input_ids'][idx],\n",
        "            'attention_mask': self.encodings['attention_mask'][idx],\n",
        "            'labels': self.labels[idx]\n",
        "        }\n",
        "    def __len__(self):\n",
        "        return len(self.labels)\n",
        "\n"
      ],
      "metadata": {
        "id": "9y41bfB-Ba_z"
      },
      "execution_count": null,
      "outputs": []
    },
    {
      "cell_type": "code",
      "source": [
        "# Create datasets and loaders\n",
        "train_dataset = ReviewDataset(train_encodings, train_labels)\n",
        "test_dataset = ReviewDataset(test_encodings, test_labels)\n",
        "\n",
        "train_loader = DataLoader(train_dataset, batch_size=8, shuffle=True)\n",
        "test_loader = DataLoader(test_dataset, batch_size=8)\n",
        "\n"
      ],
      "metadata": {
        "id": "I6znaWP6BjQD"
      },
      "execution_count": null,
      "outputs": []
    },
    {
      "cell_type": "code",
      "source": [
        "# Load model\n",
        "device = torch.device(\"cuda\" if torch.cuda.is_available() else \"cpu\")\n",
        "model = AutoModelForSequenceClassification.from_pretrained(\"bert-base-uncased\", num_labels=2)\n",
        "model.to(device)\n",
        "\n",
        "# Optimizer\n",
        "optimizer = AdamW(model.parameters(), lr=5e-5)\n",
        "\n"
      ],
      "metadata": {
        "id": "ATqf8WF2BmN_"
      },
      "execution_count": null,
      "outputs": []
    },
    {
      "cell_type": "code",
      "source": [
        "import torch\n",
        "from torch.utils.data import Dataset, DataLoader\n",
        "from transformers import AutoTokenizer, AutoModelForSequenceClassification\n",
        "from torch.optim import AdamW\n",
        "from sklearn.metrics import accuracy_score\n",
        "\n",
        "# Load tokenized data (make sure you saved it with weights_only=False)\n",
        "train_encodings, train_labels = torch.load('train_data.pt', weights_only=False)\n",
        "test_encodings, test_labels = torch.load('test_data.pt', weights_only=False)\n",
        "\n",
        "# Define custom dataset\n",
        "class ReviewDataset(Dataset):\n",
        "    def __init__(self, encodings, labels):\n",
        "        self.encodings = encodings\n",
        "        self.labels = labels\n",
        "    def __getitem__(self, idx):\n",
        "        return {\n",
        "            'input_ids': self.encodings['input_ids'][idx],\n",
        "            'attention_mask': self.encodings['attention_mask'][idx],\n",
        "            'labels': self.labels[idx]\n",
        "        }\n",
        "    def __len__(self):\n",
        "        return len(self.labels)\n",
        "\n",
        "# Create dataset objects\n",
        "train_dataset = ReviewDataset(train_encodings, train_labels)\n",
        "test_dataset = ReviewDataset(test_encodings, test_labels)\n",
        "\n",
        "# ✅ Reduce batch size to avoid memory issues\n",
        "train_loader = DataLoader(train_dataset, batch_size=4, shuffle=True)\n",
        "test_loader = DataLoader(test_dataset, batch_size=4)\n",
        "\n",
        "# Load model\n",
        "device = torch.device(\"cuda\" if torch.cuda.is_available() else \"cpu\")\n",
        "model = AutoModelForSequenceClassification.from_pretrained(\"bert-base-uncased\", num_labels=2)\n",
        "model.to(device)\n",
        "\n",
        "# Optimizer\n",
        "optimizer = AdamW(model.parameters(), lr=5e-5)\n"
      ],
      "metadata": {
        "id": "twoFizhoCxjE"
      },
      "execution_count": null,
      "outputs": []
    },
    {
      "cell_type": "code",
      "source": [
        "# Evaluation\n",
        "model.eval()\n",
        "preds, true_labels = [], []\n",
        "with torch.no_grad():\n",
        "    for batch in test_loader:\n",
        "        input_ids = batch['input_ids'].to(device)\n",
        "        attention_mask = batch['attention_mask'].to(device)\n",
        "        labels = batch['labels'].to(device)\n",
        "\n",
        "        outputs = model(input_ids, attention_mask=attention_mask)\n",
        "        predictions = torch.argmax(outputs.logits, dim=-1)\n",
        "        preds.extend(predictions.cpu().numpy())\n",
        "        true_labels.extend"
      ],
      "metadata": {
        "id": "_6ImDlkuBsGo"
      },
      "execution_count": null,
      "outputs": []
    },
    {
      "cell_type": "markdown",
      "source": [
        "## 5. ***deployment***"
      ],
      "metadata": {
        "id": "gkbb14q7_fP1"
      }
    },
    {
      "cell_type": "code",
      "source": [
        "import torch\n",
        "from transformers import AutoTokenizer, AutoModelForSequenceClassification\n",
        "\n",
        "# Load tokenizer and model\n",
        "tokenizer = AutoTokenizer.from_pretrained(\"bert-base-uncased\")\n",
        "model = AutoModelForSequenceClassification.from_pretrained(\"bert-base-uncased\", num_labels=2)\n",
        "\n",
        "# Load trained weights if saved\n",
        "# model.load_state_dict(torch.load(\"model.pt\"))  # Optional\n",
        "\n",
        "device = torch.device(\"cuda\" if torch.cuda.is_available() else \"cpu\")\n",
        "model.to(device)\n",
        "model.eval()\n"
      ],
      "metadata": {
        "id": "jcd0tU6d_cqS"
      },
      "execution_count": null,
      "outputs": []
    }
  ],
  "metadata": {
    "language_info": {
      "name": "python"
    },
    "orig_nbformat": 4,
    "colab": {
      "provenance": []
    },
    "kernelspec": {
      "name": "python3",
      "display_name": "Python 3"
    }
  },
  "nbformat": 4,
  "nbformat_minor": 0
}