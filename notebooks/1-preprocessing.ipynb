{
  "cells": [
    {
      "cell_type": "code",
      "source": [
        "# Clone the GitHub repository\n",
        "!git clone https://github.com/Erum-hub/LHL_LLM.git\n",
        "\n",
        "# Change directory to the cloned repository\n",
        "%cd LHL_LLM"
      ],
      "metadata": {
        "id": "lthrlRE-gXyr",
        "outputId": "8c9de445-0616-4e3e-991e-ed7010da7dd8",
        "colab": {
          "base_uri": "https://localhost:8080/"
        }
      },
      "execution_count": 14,
      "outputs": [
        {
          "output_type": "stream",
          "name": "stdout",
          "text": [
            "Cloning into 'LHL_LLM'...\n",
            "remote: Enumerating objects: 27, done.\u001b[K\n",
            "remote: Counting objects: 100% (27/27), done.\u001b[K\n",
            "remote: Compressing objects: 100% (25/25), done.\u001b[K\n",
            "remote: Total 27 (delta 12), reused 4 (delta 0), pack-reused 0 (from 0)\u001b[K\n",
            "Receiving objects: 100% (27/27), 14.84 KiB | 2.47 MiB/s, done.\n",
            "Resolving deltas: 100% (12/12), done.\n",
            "/content/LHL_LLM\n"
          ]
        }
      ]
    },
    {
      "cell_type": "code",
      "source": [
        "import pandas as pd\n",
        "import re"
      ],
      "metadata": {
        "id": "CQtblvjyxdvH"
      },
      "execution_count": 15,
      "outputs": []
    },
    {
      "cell_type": "code",
      "source": [
        "import csv\n",
        "\n",
        "# Open and read the CSV file\n",
        "with open('/content/LHL_LLM/Customer_Reviews.csv', newline='', encoding='utf-8') as file:\n",
        "    reader = csv.reader(file)\n",
        "\n",
        "    # Read the header\n",
        "    headers = next(reader)\n",
        "    print(\"Headers:\", headers)"
      ],
      "metadata": {
        "colab": {
          "base_uri": "https://localhost:8080/"
        },
        "id": "Gh5E-Qojxgls",
        "outputId": "cd9f2792-c582-4a2c-f1be-4d97a5df0287"
      },
      "execution_count": 18,
      "outputs": [
        {
          "output_type": "stream",
          "name": "stdout",
          "text": [
            "Headers: ['', 'book name', 'review title', 'reviewer', 'reviewer rating', 'review description', 'is_verified', 'date', 'timestamp', 'ASIN', 'Author']\n"
          ]
        }
      ]
    },
    {
      "cell_type": "code",
      "source": [
        "# Load dataset\n",
        "df = pd.read_csv('/content/LHL_LLM/Customer_Reviews.csv')"
      ],
      "metadata": {
        "id": "ul-0pjSmxidu"
      },
      "execution_count": 20,
      "outputs": []
    },
    {
      "cell_type": "code",
      "source": [
        "# Inspect\n",
        "print(df.head())"
      ],
      "metadata": {
        "colab": {
          "base_uri": "https://localhost:8080/"
        },
        "id": "cAY1xlO_xs32",
        "outputId": "e8213e07-35c6-4c43-d693-18539a36f438"
      },
      "execution_count": 21,
      "outputs": [
        {
          "output_type": "stream",
          "name": "stdout",
          "text": [
            "   Unnamed: 0                                          book name  \\\n",
            "0          17  Friends, Lovers, and the Big Terrible Thing: A...   \n",
            "1         131                      Lessons in Chemistry: A Novel   \n",
            "2         464                           Flash Cards: Sight Words   \n",
            "3         644  A Court of Mist and Fury (A Court of Thorns an...   \n",
            "4          78  The Ballad of Songbirds and Snakes (A Hunger G...   \n",
            "\n",
            "                                        review title          reviewer  \\\n",
            "0                                    A very sad read  Veronica R Ewing   \n",
            "1                    I LOVE THIS BOOK!! 😍 ⭐️⭐️⭐️⭐️⭐️             Sonia   \n",
            "2                     Amazing for struggling readers     Ryan Williams   \n",
            "3  The ending was stunning, as always, but I had ...          Brittany   \n",
            "4                                         So Good!!!   Kindle Customer   \n",
            "\n",
            "   reviewer rating                                 review description  \\\n",
            "0                4  What a shock to lose such a talented and funny...   \n",
            "1                5  Oh, my God!! I LOVE THIS BOOK SO, SO, SO MUCH!...   \n",
            "2                5  I bought these for my son who was struggling r...   \n",
            "3                4  ** Warning: This is NOT a spoiler-free review ...   \n",
            "4                5  If you loved the Hunger Games, you have to rea...   \n",
            "\n",
            "   is_verified        date                                         timestamp  \\\n",
            "0         True  30-10-2023    Reviewed in the United States October 30, 2023   \n",
            "1         True  24-10-2023    Reviewed in the United States October 24, 2023   \n",
            "2         True  29-09-2023  Reviewed in the United States September 29, 2023   \n",
            "3         True  29-06-2016       Reviewed in the United States June 29, 2016   \n",
            "4         True  29-10-2023    Reviewed in the United States October 29, 2023   \n",
            "\n",
            "         ASIN           Author  \n",
            "0  1250866448    Matthew Perry  \n",
            "1  038554734X    Bonnie Garmus  \n",
            "2  1338233580       Scholastic  \n",
            "3  1635575583    Sarah J. Maas  \n",
            "4  1339016575  Suzanne Collins  \n"
          ]
        }
      ]
    },
    {
      "cell_type": "code",
      "source": [
        "# Count unique values in the 'review title' column\n",
        "unique_count = df['review title'].nunique()\n",
        "print(f\"Number of unique review titles: {unique_count}\")"
      ],
      "metadata": {
        "id": "72-Acxls3D0x",
        "outputId": "8f799c24-d6b2-45a2-8ba2-93bd9bad4ecf",
        "colab": {
          "base_uri": "https://localhost:8080/"
        }
      },
      "execution_count": 35,
      "outputs": [
        {
          "output_type": "stream",
          "name": "stdout",
          "text": [
            "Number of unique review titles: 811\n"
          ]
        }
      ]
    },
    {
      "cell_type": "code",
      "source": [
        "top_titles = df['review title'].value_counts().head(10)\n",
        "print(top_titles)\n"
      ],
      "metadata": {
        "id": "V57LNSgJ3epV",
        "outputId": "49e4ae74-ae22-4dfb-f035-b1c9e39d9661",
        "colab": {
          "base_uri": "https://localhost:8080/"
        }
      },
      "execution_count": 36,
      "outputs": [
        {
          "output_type": "stream",
          "name": "stdout",
          "text": [
            "review title\n",
            "Great book           14\n",
            "Cute book            10\n",
            "Book                  6\n",
            "Cute                  5\n",
            "Great                 4\n",
            "Love it               4\n",
            "Great book!           4\n",
            "Nice                  3\n",
            "Perfect               3\n",
            "Such a cute book!     3\n",
            "Name: count, dtype: int64\n"
          ]
        }
      ]
    },
    {
      "cell_type": "code",
      "source": [
        "top_title_list = top_titles.index.tolist()\n",
        "df['title_group'] = df['review title'].apply(lambda x: x if x in top_title_list else 'Other')\n"
      ],
      "metadata": {
        "id": "qhC3fyjD3obs"
      },
      "execution_count": 37,
      "outputs": []
    },
    {
      "cell_type": "code",
      "source": [
        "# Combine review title and description\n",
        "df['text'] = df['review title'].fillna('') + '. ' + df['review description'].fillna('')\n",
        "\n",
        "# Clean text\n",
        "def clean_text(text):\n",
        "    text = re.sub(r\"[^a-zA-Z\\s]\", \"\", str(text))\n",
        "    return text.lower().strip()\n",
        "\n",
        "df['clean_text'] = df['text'].apply(clean_text)\n",
        "\n",
        "\n",
        "\n",
        "\n"
      ],
      "metadata": {
        "id": "kmK_K6wCxyol"
      },
      "execution_count": 27,
      "outputs": []
    },
    {
      "cell_type": "code",
      "source": [
        "# Save cleaned data\n",
        "df[['clean_text', 'label']].dropna().to_csv('cleaned_reviews.csv', index=False)"
      ],
      "metadata": {
        "id": "VSjgRLa4zv9B"
      },
      "execution_count": 32,
      "outputs": []
    },
    {
      "cell_type": "code",
      "source": [
        "# View the first few rows and header of the cleaned CSV\n",
        "df_cleaned = pd.read_csv('cleaned_reviews.csv')\n",
        "print(\"\\nCleaned Reviews Header and first few rows:\")\n",
        "print(df_cleaned.head())"
      ],
      "metadata": {
        "id": "QK_7IHWCy_pl",
        "outputId": "c1a66978-86f0-49bd-d666-cf8441eee632",
        "colab": {
          "base_uri": "https://localhost:8080/"
        }
      },
      "execution_count": 33,
      "outputs": [
        {
          "output_type": "stream",
          "name": "stdout",
          "text": [
            "\n",
            "Cleaned Reviews Header and first few rows:\n",
            "                                          clean_text  label\n",
            "0  a very sad read what a shock to lose such a ta...      1\n",
            "1  i love this book   oh my god i love this book ...      1\n",
            "2  amazing for struggling readers i bought these ...      1\n",
            "3  the ending was stunning as always but i had ch...      1\n",
            "4  so good if you loved the hunger games you have...      1\n"
          ]
        }
      ]
    },
    {
      "cell_type": "code",
      "source": [
        "import matplotlib.pyplot as plt\n",
        "\n",
        "df_cleaned['label'].value_counts().plot(kind='bar', color=['red', 'green'])\n",
        "plt.xticks([0, 1], ['Negative', 'Positive'], rotation=0)\n",
        "plt.title('Sentiment Distribution')\n",
        "plt.ylabel('Count')\n",
        "plt.show()\n"
      ],
      "metadata": {
        "id": "dsGqA-8XzG_x",
        "outputId": "69e17111-1c4d-4cb7-8b59-a01c8368cf8a",
        "colab": {
          "base_uri": "https://localhost:8080/",
          "height": 472
        }
      },
      "execution_count": 34,
      "outputs": [
        {
          "output_type": "display_data",
          "data": {
            "text/plain": [
              "<Figure size 640x480 with 1 Axes>"
            ],
            "image/png": "[encoded data removed]"
          },
          "metadata": {}
        }
      ]
    },
    {
      "cell_type": "code",
      "source": [],
      "metadata": {
        "id": "alsvSws2zRO_"
      },
      "execution_count": null,
      "outputs": []
    }
  ],
  "metadata": {
    "language_info": {
      "name": "python"
    },
    "orig_nbformat": 4,
    "colab": {
      "provenance": []
    },
    "kernelspec": {
      "name": "python3",
      "display_name": "Python 3"
    }
  },
  "nbformat": 4,
  "nbformat_minor": 0
}