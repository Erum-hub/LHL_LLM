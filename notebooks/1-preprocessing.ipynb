{
  "cells": [
    {
      "cell_type": "code",
      "execution_count": 57,
      "metadata": {
        "id": "gJimCQYfbmi3"
      },
      "outputs": [],
      "source": [
        "# imports\n",
        "\n",
        "from datasets import load_dataset, Dataset, DatasetDict\n",
        "from nltk.corpus import stopwords\n",
        "import pandas as pd\n",
        "import seaborn as sns\n",
        "import string\n",
        "import os\n",
        "import re"
      ]
    },
    {
      "cell_type": "code",
      "execution_count": 58,
      "metadata": {
        "id": "Q94qLU-dbabQ"
      },
      "outputs": [],
      "source": [
        "# Creating a directory to save data as csv\n",
        "\n",
        "current_dir = os.getcwd()\n",
        "main_dir = os.path.abspath(os.path.join(current_dir, '..'))\n",
        "data_dir = os.path.abspath(os.path.join(main_dir, 'data'))\n",
        "os.makedirs(data_dir, exist_ok=True)"
      ]
    },
    {
      "cell_type": "code",
      "execution_count": 59,
      "metadata": {
        "id": "ul-0pjSmxidu"
      },
      "outputs": [],
      "source": [
        "# Load dataset\n",
        "df = pd.read_csv('/Users/erum/LHL_LLM/data/Customer_Reviews.csv')"
      ]
    },
    {
      "cell_type": "code",
      "execution_count": 60,
      "metadata": {
        "colab": {
          "base_uri": "https://localhost:8080/"
        },
        "id": "cAY1xlO_xs32",
        "outputId": "638e37fd-ce64-460a-b835-af40aa6907ef"
      },
      "outputs": [
        {
          "name": "stdout",
          "output_type": "stream",
          "text": [
            "   Unnamed: 0                                          book name  \\\n",
            "0          17  Friends, Lovers, and the Big Terrible Thing: A...   \n",
            "1         131                      Lessons in Chemistry: A Novel   \n",
            "2         464                           Flash Cards: Sight Words   \n",
            "3         644  A Court of Mist and Fury (A Court of Thorns an...   \n",
            "4          78  The Ballad of Songbirds and Snakes (A Hunger G...   \n",
            "\n",
            "                                        review title          reviewer  \\\n",
            "0                                    A very sad read  Veronica R Ewing   \n",
            "1                    I LOVE THIS BOOK!! 😍 ⭐️⭐️⭐️⭐️⭐️             Sonia   \n",
            "2                     Amazing for struggling readers     Ryan Williams   \n",
            "3  The ending was stunning, as always, but I had ...          Brittany   \n",
            "4                                         So Good!!!   Kindle Customer   \n",
            "\n",
            "   reviewer rating                                 review description  \\\n",
            "0                4  What a shock to lose such a talented and funny...   \n",
            "1                5  Oh, my God!! I LOVE THIS BOOK SO, SO, SO MUCH!...   \n",
            "2                5  I bought these for my son who was struggling r...   \n",
            "3                4  ** Warning: This is NOT a spoiler-free review ...   \n",
            "4                5  If you loved the Hunger Games, you have to rea...   \n",
            "\n",
            "   is_verified        date                                         timestamp  \\\n",
            "0         True  30-10-2023    Reviewed in the United States October 30, 2023   \n",
            "1         True  24-10-2023    Reviewed in the United States October 24, 2023   \n",
            "2         True  29-09-2023  Reviewed in the United States September 29, 2023   \n",
            "3         True  29-06-2016       Reviewed in the United States June 29, 2016   \n",
            "4         True  29-10-2023    Reviewed in the United States October 29, 2023   \n",
            "\n",
            "         ASIN           Author  \n",
            "0  1250866448    Matthew Perry  \n",
            "1  038554734X    Bonnie Garmus  \n",
            "2  1338233580       Scholastic  \n",
            "3  1635575583    Sarah J. Maas  \n",
            "4  1339016575  Suzanne Collins  \n"
          ]
        }
      ],
      "source": [
        "# Inspect\n",
        "print(df.head())"
      ]
    },
    {
      "cell_type": "code",
      "execution_count": 61,
      "metadata": {
        "colab": {
          "base_uri": "https://localhost:8080/"
        },
        "id": "72-Acxls3D0x",
        "outputId": "c04d5c1d-debc-438a-d58c-f3952bd96117"
      },
      "outputs": [
        {
          "name": "stdout",
          "output_type": "stream",
          "text": [
            "Number of unique review titles: 819\n"
          ]
        }
      ],
      "source": [
        "# Count unique values in the 'review title' column\n",
        "unique_count = df['review title'].nunique()\n",
        "print(f\"Number of unique review titles: {unique_count}\")"
      ]
    },
    {
      "cell_type": "code",
      "execution_count": 62,
      "metadata": {
        "colab": {
          "base_uri": "https://localhost:8080/"
        },
        "id": "V57LNSgJ3epV",
        "outputId": "841e3f6f-37dd-403f-dd7f-df2ea1886246"
      },
      "outputs": [
        {
          "name": "stdout",
          "output_type": "stream",
          "text": [
            "review title\n",
            "Great book        14\n",
            "Cute book         10\n",
            "Book               6\n",
            "Cute               5\n",
            "Love it            4\n",
            "Great              4\n",
            "Great book!        4\n",
            "Love               3\n",
            "A must read        3\n",
            "Love this book     3\n",
            "Name: count, dtype: int64\n"
          ]
        }
      ],
      "source": [
        "top_titles = df['review title'].value_counts().head(10)\n",
        "print(top_titles)\n"
      ]
    },
    {
      "cell_type": "code",
      "execution_count": 63,
      "metadata": {
        "id": "qhC3fyjD3obs"
      },
      "outputs": [],
      "source": [
        "top_title_list = top_titles.index.tolist()\n",
        "df['title_group'] = df['review title'].apply(lambda x: x if x in top_title_list else 'Other')\n"
      ]
    },
    {
      "cell_type": "code",
      "execution_count": 64,
      "metadata": {
        "id": "kmK_K6wCxyol"
      },
      "outputs": [],
      "source": [
        "# Combine review title and description\n",
        "df['text'] = df['review title'].fillna('') + '. ' + df['review description'].fillna('')\n",
        "\n",
        "# Clean text\n",
        "def clean_text(text):\n",
        "    text = re.sub(r\"[^a-zA-Z\\s]\", \"\", str(text))\n",
        "    return text.lower().strip()\n",
        "\n",
        "df['clean_text'] = df['text'].apply(clean_text)\n"
      ]
    },
    {
      "cell_type": "code",
      "execution_count": 65,
      "metadata": {
        "colab": {
          "base_uri": "https://localhost:8080/"
        },
        "id": "Tm7R1UqvEpSb",
        "outputId": "1272cac4-15a9-46e9-f077-b509eced9e54"
      },
      "outputs": [
        {
          "name": "stderr",
          "output_type": "stream",
          "text": [
            "[nltk_data] Downloading package stopwords to /Users/erum/nltk_data...\n",
            "[nltk_data]   Package stopwords is already up-to-date!\n"
          ]
        }
      ],
      "source": [
        "import nltk\n",
        "from nltk.corpus import stopwords\n",
        "\n",
        "# Download stopwords if not already present\n",
        "nltk.download('stopwords')\n",
        "\n",
        "# Define stopword set\n",
        "stop_words = set(stopwords.words('english'))\n",
        "\n",
        "# Function to remove stopwords\n",
        "def remove_stopwords(text):\n",
        "    words = text.split()\n",
        "    filtered = [word for word in words if word not in stop_words]\n",
        "    return ' '.join(filtered)\n",
        "\n",
        "# Apply to cleaned text\n",
        "df['clean_text_nostop'] = df['clean_text'].apply(remove_stopwords)\n",
        "\n",
        "# Rename the column\n",
        "df = df.rename(columns={'clean_text_nostop': 'sentiment'})\n",
        "\n"
      ]
    },
    {
      "cell_type": "code",
      "execution_count": 66,
      "metadata": {
        "id": "ubebzgkHIJM9"
      },
      "outputs": [],
      "source": [
        "# Keep only the last occurrence of 'sentiment'\n",
        "df = df.loc[:, ~df.columns.duplicated(keep='last')]\n"
      ]
    },
    {
      "cell_type": "code",
      "execution_count": 67,
      "metadata": {
        "colab": {
          "base_uri": "https://localhost:8080/"
        },
        "id": "7ltRq107eWMA",
        "outputId": "fa4b7635-d969-4f1a-fbc0-a13a99d55ad2"
      },
      "outputs": [
        {
          "data": {
            "text/plain": [
              "Index(['Unnamed: 0', 'book name', 'review title', 'reviewer',\n",
              "       'reviewer rating', 'review description', 'is_verified', 'date',\n",
              "       'timestamp', 'ASIN', 'Author', 'title_group', 'text', 'clean_text',\n",
              "       'sentiment'],\n",
              "      dtype='object')"
            ]
          },
          "execution_count": 67,
          "metadata": {},
          "output_type": "execute_result"
        }
      ],
      "source": [
        "# prompt: show headers\n",
        "\n",
        "df.columns"
      ]
    },
    {
      "cell_type": "code",
      "execution_count": 68,
      "metadata": {
        "id": "4QmxxwtlHTqG"
      },
      "outputs": [],
      "source": [
        "df[['sentiment', 'reviewer rating']].dropna().to_csv('cleaned_reviews.csv', index=False)\n"
      ]
    },
    {
      "cell_type": "code",
      "execution_count": 69,
      "metadata": {
        "id": "1J03H1fAWwpc"
      },
      "outputs": [],
      "source": [
        "# Define labeling function\n",
        "def classify_sentiment(text):\n",
        "    text = text.lower()\n",
        "    if any(word in text for word in ['excellent', 'great', 'love', 'amazing', 'perfect', 'recommend', 'good']):\n",
        "        return 'recommended'\n",
        "    elif any(word in text for word in ['bad', 'poor', 'terrible', 'worst', 'disappointed', 'not recommend']):\n",
        "        return 'not recommended'\n",
        "    else:\n",
        "        return 'neutral'\n",
        "\n",
        "# Apply function to sentiment column\n",
        "df['label'] = df['sentiment'].apply(classify_sentiment)\n"
      ]
    },
    {
      "cell_type": "code",
      "execution_count": 70,
      "metadata": {
        "id": "4PkEwJF8XG8x"
      },
      "outputs": [],
      "source": [
        "# prompt: Using dataframe df: convert in csv\n",
        "\n",
        "df.to_csv(\"df.csv\")"
      ]
    },
    {
      "cell_type": "code",
      "execution_count": 71,
      "metadata": {
        "colab": {
          "base_uri": "https://localhost:8080/",
          "height": 430
        },
        "id": "WNnTVprEW_0q",
        "outputId": "60421c1f-0bc7-4dfb-f02c-02e210515116"
      },
      "outputs": [
        {
          "data": {
            "image/png": "[encoded data removed]",
            "text/plain": [
              "<Figure size 640x480 with 1 Axes>"
            ]
          },
          "metadata": {},
          "output_type": "display_data"
        }
      ],
      "source": [
        " #title label\n",
        "\n",
        "from matplotlib import pyplot as plt\n",
        "import seaborn as sns\n",
        "df.groupby('label').size().plot(kind='barh', color=sns.palettes.mpl_palette('Dark2'))\n",
        "plt.gca().spines[['top', 'right',]].set_visible(False)"
      ]
    },
    {
      "cell_type": "markdown",
      "metadata": {
        "id": "kgvdN3yyZUBD"
      },
      "source": [
        "Dataset has many more examples of recommended than others. Class imbalance problem."
      ]
    },
    {
      "cell_type": "code",
      "execution_count": 72,
      "metadata": {
        "colab": {
          "base_uri": "https://localhost:8080/",
          "height": 403
        },
        "id": "ug0qWlW1W7xh",
        "outputId": "ac8b4a29-9847-4d27-f947-d58ddc2deded"
      },
      "outputs": [
        {
          "name": "stderr",
          "output_type": "stream",
          "text": [
            "/var/folders/vh/hr9w_0vd1xv4xfslxfhrwmxh0000gn/T/ipykernel_23163/3740740557.py:7: FutureWarning: \n",
            "\n",
            "Passing `palette` without assigning `hue` is deprecated and will be removed in v0.14.0. Assign the `y` variable to `hue` and set `legend=False` for the same effect.\n",
            "\n",
            "  sns.violinplot(df, x='reviewer rating', y='label', inner='box', palette='Dark2')\n"
          ]
        },
        {
          "data": {
            "image/png": "[encoded data removed]",
            "text/plain": [
              "<Figure size 1200x360 with 1 Axes>"
            ]
          },
          "metadata": {},
          "output_type": "display_data"
        }
      ],
      "source": [
        "# @title label vs reviewer rating\n",
        "\n",
        "from matplotlib import pyplot as plt\n",
        "import seaborn as sns\n",
        "figsize = (12, 1.2 * len(df['label'].unique()))\n",
        "plt.figure(figsize=figsize)\n",
        "sns.violinplot(df, x='reviewer rating', y='label', inner='box', palette='Dark2')\n",
        "sns.despine(top=True, right=True, bottom=True, left=True)"
      ]
    },
    {
      "cell_type": "markdown",
      "metadata": {
        "id": "GqdAbhUiY6Xq"
      },
      "source": [
        "reviewer ratings (e.g., stars or numeric scores) does'nt  seem to align with the sentiment expressed in the review text."
      ]
    },
    {
      "cell_type": "code",
      "execution_count": 73,
      "metadata": {
        "id": "fg_NIvDKsDmi"
      },
      "outputs": [],
      "source": [
        "# Split dataset into three separate Dataframes\n",
        "# 0 → recommended\n",
        "# 1 → not recommended\n",
        "# 2 → neutral\n",
        "recommended = df[df['label'] == 'recommended']\n",
        "not_recommended = df[df['label'] == 'not recommended']\n",
        "neutral = df[df['label'] == 'neutral']"
      ]
    },
    {
      "cell_type": "code",
      "execution_count": 74,
      "metadata": {
        "colab": {
          "base_uri": "https://localhost:8080/"
        },
        "id": "lTgZ_18JrsEx",
        "outputId": "71794ec8-1ceb-489e-e90a-d9d7ffe7e6ef"
      },
      "outputs": [
        {
          "name": "stdout",
          "output_type": "stream",
          "text": [
            "Class distribution:\n",
            "label\n",
            "recommended        719\n",
            "neutral            181\n",
            "not recommended     10\n",
            "Name: count, dtype: int64\n"
          ]
        }
      ],
      "source": [
        "print(\"Class distribution:\")\n",
        "print(df['label'].value_counts())\n"
      ]
    },
    {
      "cell_type": "code",
      "execution_count": 75,
      "metadata": {
        "id": "JgBl4TYoru1M"
      },
      "outputs": [],
      "source": [
        "# Balancing Classes via Upsampling\n",
        "from sklearn.utils import resample\n",
        "\n",
        "# Find the majority class size\n",
        "max_size = max(len(recommended), len(not_recommended), len(neutral))\n",
        "\n",
        "# Upsample each class to match the majority size\n",
        "recommended_upsampled = resample(recommended, replace=True, n_samples=max_size, random_state=42)\n",
        "not_recommended_upsampled = resample(not_recommended, replace=True, n_samples=max_size, random_state=42)\n",
        "neutral_upsampled = resample(neutral, replace=True, n_samples=max_size, random_state=42)\n",
        "\n",
        "# Combine into a balanced dataset\n",
        "df_balanced = pd.concat([recommended_upsampled, not_recommended_upsampled, neutral_upsampled])\n"
      ]
    },
    {
      "cell_type": "code",
      "execution_count": 76,
      "metadata": {
        "id": "yFTzzKvgrx0B"
      },
      "outputs": [],
      "source": [
        "# Shuffling the Balanced Dataset\n",
        "from sklearn.utils import shuffle\n",
        "df_balanced = shuffle(df_balanced, random_state=42).reset_index(drop=True)\n"
      ]
    },
    {
      "cell_type": "code",
      "execution_count": 77,
      "metadata": {},
      "outputs": [],
      "source": [
        "# Mapping labels on the balanced dataset\n",
        "label_map = {\n",
        "    'recommended': 0,\n",
        "    'Not recommended': 1,\n",
        "    'neutral': 2\n",
        "}\n",
        "\n",
        "df_balanced['label_id'] = df_balanced['label'].map(label_map)\n"
      ]
    },
    {
      "cell_type": "code",
      "execution_count": 78,
      "metadata": {},
      "outputs": [
        {
          "name": "stdout",
          "output_type": "stream",
          "text": [
            "label\n",
            "not recommended    719\n",
            "neutral            719\n",
            "recommended        719\n",
            "Name: count, dtype: int64\n"
          ]
        }
      ],
      "source": [
        "print(df_balanced['label'].value_counts())\n"
      ]
    },
    {
      "cell_type": "code",
      "execution_count": 79,
      "metadata": {
        "id": "-O2ww4CSZ5xR"
      },
      "outputs": [
        {
          "data": {
            "image/png": "[encoded data removed]",
            "text/plain": [
              "<Figure size 800x600 with 1 Axes>"
            ]
          },
          "metadata": {},
          "output_type": "display_data"
        }
      ],
      "source": [
        "# bar chart\n",
        "\n",
        "sentiment_counts = df_balanced['label'].value_counts()\n",
        "\n",
        "plt.figure(figsize=(8, 6))\n",
        "sentiment_counts.plot(kind='bar', color=['skyblue', 'salmon', 'lightgreen'])\n",
        "plt.title('Distribution of Sentiment Labels (Balanced Dataset)')\n",
        "plt.xlabel('Sentiment Label')\n",
        "plt.ylabel('Number of Reviews')\n",
        "plt.xticks(rotation=0)\n",
        "plt.grid(axis='y', linestyle='--', alpha=0.7)\n",
        "plt.show()\n"
      ]
    },
    {
      "cell_type": "code",
      "execution_count": 80,
      "metadata": {},
      "outputs": [
        {
          "data": {
            "text/html": [
              "<div>\n",
              "<style scoped>\n",
              "    .dataframe tbody tr th:only-of-type {\n",
              "        vertical-align: middle;\n",
              "    }\n",
              "\n",
              "    .dataframe tbody tr th {\n",
              "        vertical-align: top;\n",
              "    }\n",
              "\n",
              "    .dataframe thead th {\n",
              "        text-align: right;\n",
              "    }\n",
              "</style>\n",
              "<table border=\"1\" class=\"dataframe\">\n",
              "  <thead>\n",
              "    <tr style=\"text-align: right;\">\n",
              "      <th></th>\n",
              "      <th>Unnamed: 0</th>\n",
              "      <th>book name</th>\n",
              "      <th>review title</th>\n",
              "      <th>reviewer</th>\n",
              "      <th>reviewer rating</th>\n",
              "      <th>review description</th>\n",
              "      <th>is_verified</th>\n",
              "      <th>date</th>\n",
              "      <th>timestamp</th>\n",
              "      <th>ASIN</th>\n",
              "      <th>Author</th>\n",
              "      <th>title_group</th>\n",
              "      <th>text</th>\n",
              "      <th>clean_text</th>\n",
              "      <th>sentiment</th>\n",
              "      <th>label</th>\n",
              "      <th>label_id</th>\n",
              "    </tr>\n",
              "  </thead>\n",
              "  <tbody>\n",
              "    <tr>\n",
              "      <th>0</th>\n",
              "      <td>832</td>\n",
              "      <td>Rich Dad Poor Dad: What the Rich Teach Their K...</td>\n",
              "      <td>This book changed my life</td>\n",
              "      <td>sherritha</td>\n",
              "      <td>5</td>\n",
              "      <td>groundbreaking book that explores the stark co...</td>\n",
              "      <td>True</td>\n",
              "      <td>20-10-2023</td>\n",
              "      <td>Reviewed in the United States October 20, 2023</td>\n",
              "      <td>1612681131</td>\n",
              "      <td>Robert Kiyosaki</td>\n",
              "      <td>Other</td>\n",
              "      <td>This book changed my life. groundbreaking book...</td>\n",
              "      <td>this book changed my life groundbreaking book ...</td>\n",
              "      <td>book changed life groundbreaking book explores...</td>\n",
              "      <td>not recommended</td>\n",
              "      <td>NaN</td>\n",
              "    </tr>\n",
              "    <tr>\n",
              "      <th>1</th>\n",
              "      <td>764</td>\n",
              "      <td>Paint by Sticker Kids: Christmas: Create 10 Pi...</td>\n",
              "      <td>takes lots of time</td>\n",
              "      <td>Julie</td>\n",
              "      <td>4</td>\n",
              "      <td>This is a fun activity. However, for small 5 y...</td>\n",
              "      <td>True</td>\n",
              "      <td>26-04-2023</td>\n",
              "      <td>Reviewed in the United States April 26, 2023</td>\n",
              "      <td>152350675X</td>\n",
              "      <td>Workman Publishing</td>\n",
              "      <td>Other</td>\n",
              "      <td>takes lots of time. This is a fun activity. Ho...</td>\n",
              "      <td>takes lots of time this is a fun activity howe...</td>\n",
              "      <td>takes lots time fun activity however small yr ...</td>\n",
              "      <td>neutral</td>\n",
              "      <td>2.0</td>\n",
              "    </tr>\n",
              "    <tr>\n",
              "      <th>2</th>\n",
              "      <td>205</td>\n",
              "      <td>A Little Life</td>\n",
              "      <td>Heartbreaking but beautiful</td>\n",
              "      <td>Amazon Customer</td>\n",
              "      <td>5</td>\n",
              "      <td>I rarely come across a book that lingers with ...</td>\n",
              "      <td>True</td>\n",
              "      <td>02-10-2023</td>\n",
              "      <td>Reviewed in the United States October 2, 2023</td>\n",
              "      <td>804172706</td>\n",
              "      <td>Hanya Yanagihara</td>\n",
              "      <td>Other</td>\n",
              "      <td>Heartbreaking but beautiful. I rarely come acr...</td>\n",
              "      <td>heartbreaking but beautiful i rarely come acro...</td>\n",
              "      <td>heartbreaking beautiful rarely come across boo...</td>\n",
              "      <td>neutral</td>\n",
              "      <td>2.0</td>\n",
              "    </tr>\n",
              "    <tr>\n",
              "      <th>3</th>\n",
              "      <td>363</td>\n",
              "      <td>Hundred Years' War on Palestine</td>\n",
              "      <td>Must read in these times</td>\n",
              "      <td>Tina</td>\n",
              "      <td>5</td>\n",
              "      <td>This book is required reading to get the real ...</td>\n",
              "      <td>True</td>\n",
              "      <td>04-11-2023</td>\n",
              "      <td>Reviewed in the United States November 4, 2023</td>\n",
              "      <td>1250787653</td>\n",
              "      <td>Rashid Khalidi</td>\n",
              "      <td>Other</td>\n",
              "      <td>Must read in these times. This book is require...</td>\n",
              "      <td>must read in these times this book is required...</td>\n",
              "      <td>must read times book required reading get real...</td>\n",
              "      <td>neutral</td>\n",
              "      <td>2.0</td>\n",
              "    </tr>\n",
              "    <tr>\n",
              "      <th>4</th>\n",
              "      <td>193</td>\n",
              "      <td>A Court of Thorns and Roses (A Court of Thorns...</td>\n",
              "      <td>Beautiful Cover</td>\n",
              "      <td>Ohlookabunny</td>\n",
              "      <td>4</td>\n",
              "      <td>Having heard much raving about this series, I ...</td>\n",
              "      <td>True</td>\n",
              "      <td>19-07-2023</td>\n",
              "      <td>Reviewed in the United States July 19, 2023</td>\n",
              "      <td>1635575567</td>\n",
              "      <td>Sarah J. Maas</td>\n",
              "      <td>Other</td>\n",
              "      <td>Beautiful Cover. Having heard much raving abou...</td>\n",
              "      <td>beautiful cover having heard much raving about...</td>\n",
              "      <td>beautiful cover heard much raving series pokin...</td>\n",
              "      <td>recommended</td>\n",
              "      <td>0.0</td>\n",
              "    </tr>\n",
              "  </tbody>\n",
              "</table>\n",
              "</div>"
            ],
            "text/plain": [
              "   Unnamed: 0                                          book name  \\\n",
              "0         832  Rich Dad Poor Dad: What the Rich Teach Their K...   \n",
              "1         764  Paint by Sticker Kids: Christmas: Create 10 Pi...   \n",
              "2         205                                      A Little Life   \n",
              "3         363                    Hundred Years' War on Palestine   \n",
              "4         193  A Court of Thorns and Roses (A Court of Thorns...   \n",
              "\n",
              "                  review title         reviewer  reviewer rating  \\\n",
              "0    This book changed my life        sherritha                5   \n",
              "1           takes lots of time            Julie                4   \n",
              "2  Heartbreaking but beautiful  Amazon Customer                5   \n",
              "3     Must read in these times             Tina                5   \n",
              "4              Beautiful Cover     Ohlookabunny                4   \n",
              "\n",
              "                                  review description  is_verified        date  \\\n",
              "0  groundbreaking book that explores the stark co...         True  20-10-2023   \n",
              "1  This is a fun activity. However, for small 5 y...         True  26-04-2023   \n",
              "2  I rarely come across a book that lingers with ...         True  02-10-2023   \n",
              "3  This book is required reading to get the real ...         True  04-11-2023   \n",
              "4  Having heard much raving about this series, I ...         True  19-07-2023   \n",
              "\n",
              "                                        timestamp        ASIN  \\\n",
              "0  Reviewed in the United States October 20, 2023  1612681131   \n",
              "1    Reviewed in the United States April 26, 2023  152350675X   \n",
              "2   Reviewed in the United States October 2, 2023   804172706   \n",
              "3  Reviewed in the United States November 4, 2023  1250787653   \n",
              "4     Reviewed in the United States July 19, 2023  1635575567   \n",
              "\n",
              "               Author title_group  \\\n",
              "0     Robert Kiyosaki       Other   \n",
              "1  Workman Publishing       Other   \n",
              "2    Hanya Yanagihara       Other   \n",
              "3      Rashid Khalidi       Other   \n",
              "4       Sarah J. Maas       Other   \n",
              "\n",
              "                                                text  \\\n",
              "0  This book changed my life. groundbreaking book...   \n",
              "1  takes lots of time. This is a fun activity. Ho...   \n",
              "2  Heartbreaking but beautiful. I rarely come acr...   \n",
              "3  Must read in these times. This book is require...   \n",
              "4  Beautiful Cover. Having heard much raving abou...   \n",
              "\n",
              "                                          clean_text  \\\n",
              "0  this book changed my life groundbreaking book ...   \n",
              "1  takes lots of time this is a fun activity howe...   \n",
              "2  heartbreaking but beautiful i rarely come acro...   \n",
              "3  must read in these times this book is required...   \n",
              "4  beautiful cover having heard much raving about...   \n",
              "\n",
              "                                           sentiment            label  \\\n",
              "0  book changed life groundbreaking book explores...  not recommended   \n",
              "1  takes lots time fun activity however small yr ...          neutral   \n",
              "2  heartbreaking beautiful rarely come across boo...          neutral   \n",
              "3  must read times book required reading get real...          neutral   \n",
              "4  beautiful cover heard much raving series pokin...      recommended   \n",
              "\n",
              "   label_id  \n",
              "0       NaN  \n",
              "1       2.0  \n",
              "2       2.0  \n",
              "3       2.0  \n",
              "4       0.0  "
            ]
          },
          "execution_count": 80,
          "metadata": {},
          "output_type": "execute_result"
        }
      ],
      "source": [
        "# Inspect Data set \n",
        "df_balanced.head()\n"
      ]
    },
    {
      "cell_type": "code",
      "execution_count": 81,
      "metadata": {},
      "outputs": [],
      "source": [
        "# balanced dataset to a CSV file\n",
        "df_balanced.to_csv('df_balanced.csv', index=False)\n"
      ]
    }
  ],
  "metadata": {
    "colab": {
      "provenance": []
    },
    "kernelspec": {
      "display_name": "base",
      "language": "python",
      "name": "python3"
    },
    "language_info": {
      "codemirror_mode": {
        "name": "ipython",
        "version": 3
      },
      "file_extension": ".py",
      "mimetype": "text/x-python",
      "name": "python",
      "nbconvert_exporter": "python",
      "pygments_lexer": "ipython3",
      "version": "3.12.7"
    },
    "orig_nbformat": 4
  },
  "nbformat": 4,
  "nbformat_minor": 0
}
