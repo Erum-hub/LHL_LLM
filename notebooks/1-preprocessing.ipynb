{
  "cells": [
    {
      "cell_type": "code",
      "source": [
        "# Clone the GitHub repository\n",
        "!git clone https://github.com/Erum-hub/LHL_LLM.git\n",
        "\n",
        "# Change directory to the cloned repository\n",
        "%cd LHL_LLM"
      ],
      "metadata": {
        "id": "lthrlRE-gXyr",
        "outputId": "279a603b-0047-4f58-b8d8-8435ed293fe8",
        "colab": {
          "base_uri": "https://localhost:8080/"
        }
      },
      "execution_count": 9,
      "outputs": [
        {
          "output_type": "stream",
          "name": "stdout",
          "text": [
            "fatal: destination path 'LHL_LLM' already exists and is not an empty directory.\n",
            "/content/LHL_LLM\n"
          ]
        }
      ]
    },
    {
      "cell_type": "code",
      "source": [
        "import pandas as pd\n",
        "import re"
      ],
      "metadata": {
        "id": "CQtblvjyxdvH"
      },
      "execution_count": 10,
      "outputs": []
    },
    {
      "cell_type": "code",
      "source": [
        "import csv\n",
        "\n",
        "# Open and read the CSV file\n",
        "with open('/content/LHL_LLM/Customer_Reviews.csv', newline='', encoding='utf-8') as file:\n",
        "    reader = csv.reader(file)\n",
        "\n",
        "    # Read the header\n",
        "    headers = next(reader)\n",
        "    print(\"Headers:\", headers)"
      ],
      "metadata": {
        "colab": {
          "base_uri": "https://localhost:8080/"
        },
        "id": "Gh5E-Qojxgls",
        "outputId": "0598654f-36c1-4a2d-acb6-6cdc944043a7"
      },
      "execution_count": 11,
      "outputs": [
        {
          "output_type": "stream",
          "name": "stdout",
          "text": [
            "Headers: ['', 'book name', 'review title', 'reviewer', 'reviewer rating', 'review description', 'is_verified', 'date', 'timestamp', 'ASIN', 'Author']\n"
          ]
        }
      ]
    },
    {
      "cell_type": "code",
      "source": [
        "# Load dataset\n",
        "df = pd.read_csv('/content/LHL_LLM/Customer_Reviews.csv')"
      ],
      "metadata": {
        "id": "ul-0pjSmxidu"
      },
      "execution_count": 12,
      "outputs": []
    },
    {
      "cell_type": "code",
      "source": [
        "# Inspect\n",
        "print(df.head())"
      ],
      "metadata": {
        "colab": {
          "base_uri": "https://localhost:8080/"
        },
        "id": "cAY1xlO_xs32",
        "outputId": "cc535099-e177-45aa-c755-66644a134579"
      },
      "execution_count": 13,
      "outputs": [
        {
          "output_type": "stream",
          "name": "stdout",
          "text": [
            "   Unnamed: 0                                          book name  \\\n",
            "0          17  Friends, Lovers, and the Big Terrible Thing: A...   \n",
            "1         131                      Lessons in Chemistry: A Novel   \n",
            "2         464                           Flash Cards: Sight Words   \n",
            "3         644  A Court of Mist and Fury (A Court of Thorns an...   \n",
            "4          78  The Ballad of Songbirds and Snakes (A Hunger G...   \n",
            "\n",
            "                                        review title          reviewer  \\\n",
            "0                                    A very sad read  Veronica R Ewing   \n",
            "1                    I LOVE THIS BOOK!! 😍 ⭐️⭐️⭐️⭐️⭐️             Sonia   \n",
            "2                     Amazing for struggling readers     Ryan Williams   \n",
            "3  The ending was stunning, as always, but I had ...          Brittany   \n",
            "4                                         So Good!!!   Kindle Customer   \n",
            "\n",
            "   reviewer rating                                 review description  \\\n",
            "0                4  What a shock to lose such a talented and funny...   \n",
            "1                5  Oh, my God!! I LOVE THIS BOOK SO, SO, SO MUCH!...   \n",
            "2                5  I bought these for my son who was struggling r...   \n",
            "3                4  ** Warning: This is NOT a spoiler-free review ...   \n",
            "4                5  If you loved the Hunger Games, you have to rea...   \n",
            "\n",
            "   is_verified        date                                         timestamp  \\\n",
            "0         True  30-10-2023    Reviewed in the United States October 30, 2023   \n",
            "1         True  24-10-2023    Reviewed in the United States October 24, 2023   \n",
            "2         True  29-09-2023  Reviewed in the United States September 29, 2023   \n",
            "3         True  29-06-2016       Reviewed in the United States June 29, 2016   \n",
            "4         True  29-10-2023    Reviewed in the United States October 29, 2023   \n",
            "\n",
            "         ASIN           Author  \n",
            "0  1250866448    Matthew Perry  \n",
            "1  038554734X    Bonnie Garmus  \n",
            "2  1338233580       Scholastic  \n",
            "3  1635575583    Sarah J. Maas  \n",
            "4  1339016575  Suzanne Collins  \n"
          ]
        }
      ]
    },
    {
      "cell_type": "code",
      "source": [
        "# Count unique values in the 'review title' column\n",
        "unique_count = df['review title'].nunique()\n",
        "print(f\"Number of unique review titles: {unique_count}\")"
      ],
      "metadata": {
        "id": "72-Acxls3D0x",
        "outputId": "9210340c-f223-4b49-e68e-a1774fa27918",
        "colab": {
          "base_uri": "https://localhost:8080/"
        }
      },
      "execution_count": 14,
      "outputs": [
        {
          "output_type": "stream",
          "name": "stdout",
          "text": [
            "Number of unique review titles: 819\n"
          ]
        }
      ]
    },
    {
      "cell_type": "code",
      "source": [
        "top_titles = df['review title'].value_counts().head(10)\n",
        "print(top_titles)\n"
      ],
      "metadata": {
        "id": "V57LNSgJ3epV",
        "outputId": "0f53fd8c-62b9-4592-b2a3-3247900a35f5",
        "colab": {
          "base_uri": "https://localhost:8080/"
        }
      },
      "execution_count": 15,
      "outputs": [
        {
          "output_type": "stream",
          "name": "stdout",
          "text": [
            "review title\n",
            "Great book     14\n",
            "Cute book      10\n",
            "Book            6\n",
            "Cute            5\n",
            "Love it         4\n",
            "Great book!     4\n",
            "Great           4\n",
            "Perfect         3\n",
            "Loved it!       3\n",
            "Love            3\n",
            "Name: count, dtype: int64\n"
          ]
        }
      ]
    },
    {
      "cell_type": "code",
      "source": [
        "top_title_list = top_titles.index.tolist()\n",
        "df['title_group'] = df['review title'].apply(lambda x: x if x in top_title_list else 'Other')\n"
      ],
      "metadata": {
        "id": "qhC3fyjD3obs"
      },
      "execution_count": 16,
      "outputs": []
    },
    {
      "cell_type": "code",
      "source": [
        "# Combine review title and description\n",
        "df['text'] = df['review title'].fillna('') + '. ' + df['review description'].fillna('')\n",
        "\n",
        "# Clean text\n",
        "def clean_text(text):\n",
        "    text = re.sub(r\"[^a-zA-Z\\s]\", \"\", str(text))\n",
        "    return text.lower().strip()\n",
        "\n",
        "df['clean_text'] = df['text'].apply(clean_text)\n"
      ],
      "metadata": {
        "id": "kmK_K6wCxyol"
      },
      "execution_count": 17,
      "outputs": []
    },
    {
      "cell_type": "code",
      "source": [
        "# prompt: how to check header of above df\n",
        "\n",
        "df.head()"
      ],
      "metadata": {
        "id": "k-RkTZvXE_EK",
        "outputId": "3d40c560-694a-40be-aa94-49145d409862",
        "colab": {
          "base_uri": "https://localhost:8080/",
          "height": 640
        }
      },
      "execution_count": 21,
      "outputs": [
        {
          "output_type": "execute_result",
          "data": {
            "text/plain": [
              "   Unnamed: 0                                          book name  \\\n",
              "0          17  Friends, Lovers, and the Big Terrible Thing: A...   \n",
              "1         131                      Lessons in Chemistry: A Novel   \n",
              "2         464                           Flash Cards: Sight Words   \n",
              "3         644  A Court of Mist and Fury (A Court of Thorns an...   \n",
              "4          78  The Ballad of Songbirds and Snakes (A Hunger G...   \n",
              "\n",
              "                                        review title          reviewer  \\\n",
              "0                                    A very sad read  Veronica R Ewing   \n",
              "1                    I LOVE THIS BOOK!! 😍 ⭐️⭐️⭐️⭐️⭐️             Sonia   \n",
              "2                     Amazing for struggling readers     Ryan Williams   \n",
              "3  The ending was stunning, as always, but I had ...          Brittany   \n",
              "4                                         So Good!!!   Kindle Customer   \n",
              "\n",
              "   reviewer rating                                 review description  \\\n",
              "0                4  What a shock to lose such a talented and funny...   \n",
              "1                5  Oh, my God!! I LOVE THIS BOOK SO, SO, SO MUCH!...   \n",
              "2                5  I bought these for my son who was struggling r...   \n",
              "3                4  ** Warning: This is NOT a spoiler-free review ...   \n",
              "4                5  If you loved the Hunger Games, you have to rea...   \n",
              "\n",
              "   is_verified        date                                         timestamp  \\\n",
              "0         True  30-10-2023    Reviewed in the United States October 30, 2023   \n",
              "1         True  24-10-2023    Reviewed in the United States October 24, 2023   \n",
              "2         True  29-09-2023  Reviewed in the United States September 29, 2023   \n",
              "3         True  29-06-2016       Reviewed in the United States June 29, 2016   \n",
              "4         True  29-10-2023    Reviewed in the United States October 29, 2023   \n",
              "\n",
              "         ASIN           Author title_group  \\\n",
              "0  1250866448    Matthew Perry       Other   \n",
              "1  038554734X    Bonnie Garmus       Other   \n",
              "2  1338233580       Scholastic       Other   \n",
              "3  1635575583    Sarah J. Maas       Other   \n",
              "4  1339016575  Suzanne Collins       Other   \n",
              "\n",
              "                                                text  \\\n",
              "0  A very sad read. What a shock to lose such a t...   \n",
              "1  I LOVE THIS BOOK!! 😍 ⭐️⭐️⭐️⭐️⭐️. Oh, my God!! ...   \n",
              "2  Amazing for struggling readers. I bought these...   \n",
              "3  The ending was stunning, as always, but I had ...   \n",
              "4  So Good!!!. If you loved the Hunger Games, you...   \n",
              "\n",
              "                                          clean_text  \\\n",
              "0  a very sad read what a shock to lose such a ta...   \n",
              "1  i love this book   oh my god i love this book ...   \n",
              "2  amazing for struggling readers i bought these ...   \n",
              "3  the ending was stunning as always but i had ch...   \n",
              "4  so good if you loved the hunger games you have...   \n",
              "\n",
              "                                   clean_text_nostop  \n",
              "0  sad read shock lose talented funny actor young...  \n",
              "1  love book oh god love book much stars definite...  \n",
              "2  amazing struggling readers bought son struggli...  \n",
              "3  ending stunning always character issues warnin...  \n",
              "4  good loved hunger games read couldnt put loved...  "
            ],
            "text/html": [
              "\n",
              "  <div id=\"df-ead18d68-6c9d-497b-8331-4073e7bf8024\" class=\"colab-df-container\">\n",
              "    <div>\n",
              "<style scoped>\n",
              "    .dataframe tbody tr th:only-of-type {\n",
              "        vertical-align: middle;\n",
              "    }\n",
              "\n",
              "    .dataframe tbody tr th {\n",
              "        vertical-align: top;\n",
              "    }\n",
              "\n",
              "    .dataframe thead th {\n",
              "        text-align: right;\n",
              "    }\n",
              "</style>\n",
              "<table border=\"1\" class=\"dataframe\">\n",
              "  <thead>\n",
              "    <tr style=\"text-align: right;\">\n",
              "      <th></th>\n",
              "      <th>Unnamed: 0</th>\n",
              "      <th>book name</th>\n",
              "      <th>review title</th>\n",
              "      <th>reviewer</th>\n",
              "      <th>reviewer rating</th>\n",
              "      <th>review description</th>\n",
              "      <th>is_verified</th>\n",
              "      <th>date</th>\n",
              "      <th>timestamp</th>\n",
              "      <th>ASIN</th>\n",
              "      <th>Author</th>\n",
              "      <th>title_group</th>\n",
              "      <th>text</th>\n",
              "      <th>clean_text</th>\n",
              "      <th>clean_text_nostop</th>\n",
              "    </tr>\n",
              "  </thead>\n",
              "  <tbody>\n",
              "    <tr>\n",
              "      <th>0</th>\n",
              "      <td>17</td>\n",
              "      <td>Friends, Lovers, and the Big Terrible Thing: A...</td>\n",
              "      <td>A very sad read</td>\n",
              "      <td>Veronica R Ewing</td>\n",
              "      <td>4</td>\n",
              "      <td>What a shock to lose such a talented and funny...</td>\n",
              "      <td>True</td>\n",
              "      <td>30-10-2023</td>\n",
              "      <td>Reviewed in the United States October 30, 2023</td>\n",
              "      <td>1250866448</td>\n",
              "      <td>Matthew Perry</td>\n",
              "      <td>Other</td>\n",
              "      <td>A very sad read. What a shock to lose such a t...</td>\n",
              "      <td>a very sad read what a shock to lose such a ta...</td>\n",
              "      <td>sad read shock lose talented funny actor young...</td>\n",
              "    </tr>\n",
              "    <tr>\n",
              "      <th>1</th>\n",
              "      <td>131</td>\n",
              "      <td>Lessons in Chemistry: A Novel</td>\n",
              "      <td>I LOVE THIS BOOK!! 😍 ⭐️⭐️⭐️⭐️⭐️</td>\n",
              "      <td>Sonia</td>\n",
              "      <td>5</td>\n",
              "      <td>Oh, my God!! I LOVE THIS BOOK SO, SO, SO MUCH!...</td>\n",
              "      <td>True</td>\n",
              "      <td>24-10-2023</td>\n",
              "      <td>Reviewed in the United States October 24, 2023</td>\n",
              "      <td>038554734X</td>\n",
              "      <td>Bonnie Garmus</td>\n",
              "      <td>Other</td>\n",
              "      <td>I LOVE THIS BOOK!! 😍 ⭐️⭐️⭐️⭐️⭐️. Oh, my God!! ...</td>\n",
              "      <td>i love this book   oh my god i love this book ...</td>\n",
              "      <td>love book oh god love book much stars definite...</td>\n",
              "    </tr>\n",
              "    <tr>\n",
              "      <th>2</th>\n",
              "      <td>464</td>\n",
              "      <td>Flash Cards: Sight Words</td>\n",
              "      <td>Amazing for struggling readers</td>\n",
              "      <td>Ryan Williams</td>\n",
              "      <td>5</td>\n",
              "      <td>I bought these for my son who was struggling r...</td>\n",
              "      <td>True</td>\n",
              "      <td>29-09-2023</td>\n",
              "      <td>Reviewed in the United States September 29, 2023</td>\n",
              "      <td>1338233580</td>\n",
              "      <td>Scholastic</td>\n",
              "      <td>Other</td>\n",
              "      <td>Amazing for struggling readers. I bought these...</td>\n",
              "      <td>amazing for struggling readers i bought these ...</td>\n",
              "      <td>amazing struggling readers bought son struggli...</td>\n",
              "    </tr>\n",
              "    <tr>\n",
              "      <th>3</th>\n",
              "      <td>644</td>\n",
              "      <td>A Court of Mist and Fury (A Court of Thorns an...</td>\n",
              "      <td>The ending was stunning, as always, but I had ...</td>\n",
              "      <td>Brittany</td>\n",
              "      <td>4</td>\n",
              "      <td>** Warning: This is NOT a spoiler-free review ...</td>\n",
              "      <td>True</td>\n",
              "      <td>29-06-2016</td>\n",
              "      <td>Reviewed in the United States June 29, 2016</td>\n",
              "      <td>1635575583</td>\n",
              "      <td>Sarah J. Maas</td>\n",
              "      <td>Other</td>\n",
              "      <td>The ending was stunning, as always, but I had ...</td>\n",
              "      <td>the ending was stunning as always but i had ch...</td>\n",
              "      <td>ending stunning always character issues warnin...</td>\n",
              "    </tr>\n",
              "    <tr>\n",
              "      <th>4</th>\n",
              "      <td>78</td>\n",
              "      <td>The Ballad of Songbirds and Snakes (A Hunger G...</td>\n",
              "      <td>So Good!!!</td>\n",
              "      <td>Kindle Customer</td>\n",
              "      <td>5</td>\n",
              "      <td>If you loved the Hunger Games, you have to rea...</td>\n",
              "      <td>True</td>\n",
              "      <td>29-10-2023</td>\n",
              "      <td>Reviewed in the United States October 29, 2023</td>\n",
              "      <td>1339016575</td>\n",
              "      <td>Suzanne Collins</td>\n",
              "      <td>Other</td>\n",
              "      <td>So Good!!!. If you loved the Hunger Games, you...</td>\n",
              "      <td>so good if you loved the hunger games you have...</td>\n",
              "      <td>good loved hunger games read couldnt put loved...</td>\n",
              "    </tr>\n",
              "  </tbody>\n",
              "</table>\n",
              "</div>\n",
              "    <div class=\"colab-df-buttons\">\n",
              "\n",
              "  <div class=\"colab-df-container\">\n",
              "    <button class=\"colab-df-convert\" onclick=\"convertToInteractive('df-ead18d68-6c9d-497b-8331-4073e7bf8024')\"\n",
              "            title=\"Convert this dataframe to an interactive table.\"\n",
              "            style=\"display:none;\">\n",
              "\n",
              "  <svg xmlns=\"http://www.w3.org/2000/svg\" height=\"24px\" viewBox=\"0 -960 960 960\">\n",
              "    <path d=\"M120-120v-720h720v720H120Zm60-500h600v-160H180v160Zm220 220h160v-160H400v160Zm0 220h160v-160H400v160ZM180-400h160v-160H180v160Zm440 0h160v-160H620v160ZM180-180h160v-160H180v160Zm440 0h160v-160H620v160Z\"/>\n",
              "  </svg>\n",
              "    </button>\n",
              "\n",
              "  <style>\n",
              "    .colab-df-container {\n",
              "      display:flex;\n",
              "      gap: 12px;\n",
              "    }\n",
              "\n",
              "    .colab-df-convert {\n",
              "      background-color: #E8F0FE;\n",
              "      border: none;\n",
              "      border-radius: 50%;\n",
              "      cursor: pointer;\n",
              "      display: none;\n",
              "      fill: #1967D2;\n",
              "      height: 32px;\n",
              "      padding: 0 0 0 0;\n",
              "      width: 32px;\n",
              "    }\n",
              "\n",
              "    .colab-df-convert:hover {\n",
              "      background-color: #E2EBFA;\n",
              "      box-shadow: 0px 1px 2px rgba(60, 64, 67, 0.3), 0px 1px 3px 1px rgba(60, 64, 67, 0.15);\n",
              "      fill: #174EA6;\n",
              "    }\n",
              "\n",
              "    .colab-df-buttons div {\n",
              "      margin-bottom: 4px;\n",
              "    }\n",
              "\n",
              "    [theme=dark] .colab-df-convert {\n",
              "      background-color: #3B4455;\n",
              "      fill: #D2E3FC;\n",
              "    }\n",
              "\n",
              "    [theme=dark] .colab-df-convert:hover {\n",
              "      background-color: #434B5C;\n",
              "      box-shadow: 0px 1px 3px 1px rgba(0, 0, 0, 0.15);\n",
              "      filter: drop-shadow(0px 1px 2px rgba(0, 0, 0, 0.3));\n",
              "      fill: #FFFFFF;\n",
              "    }\n",
              "  </style>\n",
              "\n",
              "    <script>\n",
              "      const buttonEl =\n",
              "        document.querySelector('#df-ead18d68-6c9d-497b-8331-4073e7bf8024 button.colab-df-convert');\n",
              "      buttonEl.style.display =\n",
              "        google.colab.kernel.accessAllowed ? 'block' : 'none';\n",
              "\n",
              "      async function convertToInteractive(key) {\n",
              "        const element = document.querySelector('#df-ead18d68-6c9d-497b-8331-4073e7bf8024');\n",
              "        const dataTable =\n",
              "          await google.colab.kernel.invokeFunction('convertToInteractive',\n",
              "                                                    [key], {});\n",
              "        if (!dataTable) return;\n",
              "\n",
              "        const docLinkHtml = 'Like what you see? Visit the ' +\n",
              "          '<a target=\"_blank\" href=https://colab.research.google.com/notebooks/data_table.ipynb>data table notebook</a>'\n",
              "          + ' to learn more about interactive tables.';\n",
              "        element.innerHTML = '';\n",
              "        dataTable['output_type'] = 'display_data';\n",
              "        await google.colab.output.renderOutput(dataTable, element);\n",
              "        const docLink = document.createElement('div');\n",
              "        docLink.innerHTML = docLinkHtml;\n",
              "        element.appendChild(docLink);\n",
              "      }\n",
              "    </script>\n",
              "  </div>\n",
              "\n",
              "\n",
              "    <div id=\"df-6728cc3d-7746-40de-a79b-5d24c77fec88\">\n",
              "      <button class=\"colab-df-quickchart\" onclick=\"quickchart('df-6728cc3d-7746-40de-a79b-5d24c77fec88')\"\n",
              "                title=\"Suggest charts\"\n",
              "                style=\"display:none;\">\n",
              "\n",
              "<svg xmlns=\"http://www.w3.org/2000/svg\" height=\"24px\"viewBox=\"0 0 24 24\"\n",
              "     width=\"24px\">\n",
              "    <g>\n",
              "        <path d=\"M19 3H5c-1.1 0-2 .9-2 2v14c0 1.1.9 2 2 2h14c1.1 0 2-.9 2-2V5c0-1.1-.9-2-2-2zM9 17H7v-7h2v7zm4 0h-2V7h2v10zm4 0h-2v-4h2v4z\"/>\n",
              "    </g>\n",
              "</svg>\n",
              "      </button>\n",
              "\n",
              "<style>\n",
              "  .colab-df-quickchart {\n",
              "      --bg-color: #E8F0FE;\n",
              "      --fill-color: #1967D2;\n",
              "      --hover-bg-color: #E2EBFA;\n",
              "      --hover-fill-color: #174EA6;\n",
              "      --disabled-fill-color: #AAA;\n",
              "      --disabled-bg-color: #DDD;\n",
              "  }\n",
              "\n",
              "  [theme=dark] .colab-df-quickchart {\n",
              "      --bg-color: #3B4455;\n",
              "      --fill-color: #D2E3FC;\n",
              "      --hover-bg-color: #434B5C;\n",
              "      --hover-fill-color: #FFFFFF;\n",
              "      --disabled-bg-color: #3B4455;\n",
              "      --disabled-fill-color: #666;\n",
              "  }\n",
              "\n",
              "  .colab-df-quickchart {\n",
              "    background-color: var(--bg-color);\n",
              "    border: none;\n",
              "    border-radius: 50%;\n",
              "    cursor: pointer;\n",
              "    display: none;\n",
              "    fill: var(--fill-color);\n",
              "    height: 32px;\n",
              "    padding: 0;\n",
              "    width: 32px;\n",
              "  }\n",
              "\n",
              "  .colab-df-quickchart:hover {\n",
              "    background-color: var(--hover-bg-color);\n",
              "    box-shadow: 0 1px 2px rgba(60, 64, 67, 0.3), 0 1px 3px 1px rgba(60, 64, 67, 0.15);\n",
              "    fill: var(--button-hover-fill-color);\n",
              "  }\n",
              "\n",
              "  .colab-df-quickchart-complete:disabled,\n",
              "  .colab-df-quickchart-complete:disabled:hover {\n",
              "    background-color: var(--disabled-bg-color);\n",
              "    fill: var(--disabled-fill-color);\n",
              "    box-shadow: none;\n",
              "  }\n",
              "\n",
              "  .colab-df-spinner {\n",
              "    border: 2px solid var(--fill-color);\n",
              "    border-color: transparent;\n",
              "    border-bottom-color: var(--fill-color);\n",
              "    animation:\n",
              "      spin 1s steps(1) infinite;\n",
              "  }\n",
              "\n",
              "  @keyframes spin {\n",
              "    0% {\n",
              "      border-color: transparent;\n",
              "      border-bottom-color: var(--fill-color);\n",
              "      border-left-color: var(--fill-color);\n",
              "    }\n",
              "    20% {\n",
              "      border-color: transparent;\n",
              "      border-left-color: var(--fill-color);\n",
              "      border-top-color: var(--fill-color);\n",
              "    }\n",
              "    30% {\n",
              "      border-color: transparent;\n",
              "      border-left-color: var(--fill-color);\n",
              "      border-top-color: var(--fill-color);\n",
              "      border-right-color: var(--fill-color);\n",
              "    }\n",
              "    40% {\n",
              "      border-color: transparent;\n",
              "      border-right-color: var(--fill-color);\n",
              "      border-top-color: var(--fill-color);\n",
              "    }\n",
              "    60% {\n",
              "      border-color: transparent;\n",
              "      border-right-color: var(--fill-color);\n",
              "    }\n",
              "    80% {\n",
              "      border-color: transparent;\n",
              "      border-right-color: var(--fill-color);\n",
              "      border-bottom-color: var(--fill-color);\n",
              "    }\n",
              "    90% {\n",
              "      border-color: transparent;\n",
              "      border-bottom-color: var(--fill-color);\n",
              "    }\n",
              "  }\n",
              "</style>\n",
              "\n",
              "      <script>\n",
              "        async function quickchart(key) {\n",
              "          const quickchartButtonEl =\n",
              "            document.querySelector('#' + key + ' button');\n",
              "          quickchartButtonEl.disabled = true;  // To prevent multiple clicks.\n",
              "          quickchartButtonEl.classList.add('colab-df-spinner');\n",
              "          try {\n",
              "            const charts = await google.colab.kernel.invokeFunction(\n",
              "                'suggestCharts', [key], {});\n",
              "          } catch (error) {\n",
              "            console.error('Error during call to suggestCharts:', error);\n",
              "          }\n",
              "          quickchartButtonEl.classList.remove('colab-df-spinner');\n",
              "          quickchartButtonEl.classList.add('colab-df-quickchart-complete');\n",
              "        }\n",
              "        (() => {\n",
              "          let quickchartButtonEl =\n",
              "            document.querySelector('#df-6728cc3d-7746-40de-a79b-5d24c77fec88 button');\n",
              "          quickchartButtonEl.style.display =\n",
              "            google.colab.kernel.accessAllowed ? 'block' : 'none';\n",
              "        })();\n",
              "      </script>\n",
              "    </div>\n",
              "\n",
              "    </div>\n",
              "  </div>\n"
            ],
            "application/vnd.google.colaboratory.intrinsic+json": {
              "type": "dataframe",
              "variable_name": "df",
              "summary": "{\n  \"name\": \"df\",\n  \"rows\": 910,\n  \"fields\": [\n    {\n      \"column\": \"Unnamed: 0\",\n      \"properties\": {\n        \"dtype\": \"number\",\n        \"std\": 262,\n        \"min\": 0,\n        \"max\": 909,\n        \"num_unique_values\": 910,\n        \"samples\": [\n          110,\n          287,\n          612\n        ],\n        \"semantic_type\": \"\",\n        \"description\": \"\"\n      }\n    },\n    {\n      \"column\": \"book name\",\n      \"properties\": {\n        \"dtype\": \"category\",\n        \"num_unique_values\": 90,\n        \"samples\": [\n          \"The Shadow Work Journal: A Guide to Integrate and Transcend your Shadows\",\n          \"Hundred Years' War on Palestine\",\n          \"How to Catch a Reindeer\"\n        ],\n        \"semantic_type\": \"\",\n        \"description\": \"\"\n      }\n    },\n    {\n      \"column\": \"review title\",\n      \"properties\": {\n        \"dtype\": \"string\",\n        \"num_unique_values\": 819,\n        \"samples\": [\n          \"Baby favorite \\ud83e\\udd29\",\n          \"Cute read aloud\",\n          \"Transforming Through Tiny Changes: A Deep Dive into 'Atomic Habits\"\n        ],\n        \"semantic_type\": \"\",\n        \"description\": \"\"\n      }\n    },\n    {\n      \"column\": \"reviewer\",\n      \"properties\": {\n        \"dtype\": \"string\",\n        \"num_unique_values\": 809,\n        \"samples\": [\n          \"Gena S\",\n          \"Annemarie\",\n          \"Elizabeth Humphrey\"\n        ],\n        \"semantic_type\": \"\",\n        \"description\": \"\"\n      }\n    },\n    {\n      \"column\": \"reviewer rating\",\n      \"properties\": {\n        \"dtype\": \"number\",\n        \"std\": 0,\n        \"min\": 2,\n        \"max\": 5,\n        \"num_unique_values\": 4,\n        \"samples\": [\n          5,\n          2,\n          4\n        ],\n        \"semantic_type\": \"\",\n        \"description\": \"\"\n      }\n    },\n    {\n      \"column\": \"review description\",\n      \"properties\": {\n        \"dtype\": \"string\",\n        \"num_unique_values\": 900,\n        \"samples\": [\n          \"Exactly what I was expecting.\",\n          \"Dr. Lyon is sharing such important information in this book, for our health and the health of everyone we know and love. For too long, there has not been a focus on something that has a huge impact on our health and longevity, and that is our muscle. You will be amazed at how much being strong will have an impact on your life, health and happiness. I have been following Dr. Lyon's guidance based on various podcasts I have heard her on (including her own), and I am so happy to have this book to refer to whenever I need it. It's sad that we almost never hear this information from the health care professionals in our lives, as it will have such a profound impact on us! Read this book, put everything into practice, and see how amazing you feel!\",\n          \"Amazing history. Definitely recommend if your looking to understand the conflict in Palestine better.\"\n        ],\n        \"semantic_type\": \"\",\n        \"description\": \"\"\n      }\n    },\n    {\n      \"column\": \"is_verified\",\n      \"properties\": {\n        \"dtype\": \"boolean\",\n        \"num_unique_values\": 2,\n        \"samples\": [\n          false,\n          true\n        ],\n        \"semantic_type\": \"\",\n        \"description\": \"\"\n      }\n    },\n    {\n      \"column\": \"date\",\n      \"properties\": {\n        \"dtype\": \"object\",\n        \"num_unique_values\": 243,\n        \"samples\": [\n          \"01-11-2023\",\n          \"04-11-2023\"\n        ],\n        \"semantic_type\": \"\",\n        \"description\": \"\"\n      }\n    },\n    {\n      \"column\": \"timestamp\",\n      \"properties\": {\n        \"dtype\": \"category\",\n        \"num_unique_values\": 243,\n        \"samples\": [\n          \"Reviewed in the United States November 1, 2023\",\n          \"Reviewed in the United States November 4, 2023\"\n        ],\n        \"semantic_type\": \"\",\n        \"description\": \"\"\n      }\n    },\n    {\n      \"column\": \"ASIN\",\n      \"properties\": {\n        \"dtype\": \"category\",\n        \"num_unique_values\": 91,\n        \"samples\": [\n          \"006332752X\",\n          \"1250787653\"\n        ],\n        \"semantic_type\": \"\",\n        \"description\": \"\"\n      }\n    },\n    {\n      \"column\": \"Author\",\n      \"properties\": {\n        \"dtype\": \"category\",\n        \"num_unique_values\": 78,\n        \"samples\": [\n          \"Barbara Kingsolver\",\n          \"Matthew Perry\"\n        ],\n        \"semantic_type\": \"\",\n        \"description\": \"\"\n      }\n    },\n    {\n      \"column\": \"title_group\",\n      \"properties\": {\n        \"dtype\": \"category\",\n        \"num_unique_values\": 11,\n        \"samples\": [\n          \"Love it\",\n          \"Other\"\n        ],\n        \"semantic_type\": \"\",\n        \"description\": \"\"\n      }\n    },\n    {\n      \"column\": \"text\",\n      \"properties\": {\n        \"dtype\": \"string\",\n        \"num_unique_values\": 900,\n        \"samples\": [\n          \"Perfect!. Exactly what I was expecting.\",\n          \"The book we need!!. Dr. Lyon is sharing such important information in this book, for our health and the health of everyone we know and love. For too long, there has not been a focus on something that has a huge impact on our health and longevity, and that is our muscle. You will be amazed at how much being strong will have an impact on your life, health and happiness. I have been following Dr. Lyon's guidance based on various podcasts I have heard her on (including her own), and I am so happy to have this book to refer to whenever I need it. It's sad that we almost never hear this information from the health care professionals in our lives, as it will have such a profound impact on us! Read this book, put everything into practice, and see how amazing you feel!\"\n        ],\n        \"semantic_type\": \"\",\n        \"description\": \"\"\n      }\n    },\n    {\n      \"column\": \"clean_text\",\n      \"properties\": {\n        \"dtype\": \"string\",\n        \"num_unique_values\": 900,\n        \"samples\": [\n          \"perfect exactly what i was expecting\",\n          \"the book we need dr lyon is sharing such important information in this book for our health and the health of everyone we know and love for too long there has not been a focus on something that has a huge impact on our health and longevity and that is our muscle you will be amazed at how much being strong will have an impact on your life health and happiness i have been following dr lyons guidance based on various podcasts i have heard her on including her own and i am so happy to have this book to refer to whenever i need it its sad that we almost never hear this information from the health care professionals in our lives as it will have such a profound impact on us read this book put everything into practice and see how amazing you feel\"\n        ],\n        \"semantic_type\": \"\",\n        \"description\": \"\"\n      }\n    },\n    {\n      \"column\": \"clean_text_nostop\",\n      \"properties\": {\n        \"dtype\": \"string\",\n        \"num_unique_values\": 900,\n        \"samples\": [\n          \"perfect exactly expecting\",\n          \"book need dr lyon sharing important information book health health everyone know love long focus something huge impact health longevity muscle amazed much strong impact life health happiness following dr lyons guidance based various podcasts heard including happy book refer whenever need sad almost never hear information health care professionals lives profound impact us read book put everything practice see amazing feel\"\n        ],\n        \"semantic_type\": \"\",\n        \"description\": \"\"\n      }\n    }\n  ]\n}"
            }
          },
          "metadata": {},
          "execution_count": 21
        }
      ]
    },
    {
      "cell_type": "code",
      "source": [
        "print(df.columns.tolist())\n"
      ],
      "metadata": {
        "id": "TGLZVCjVFuaR"
      },
      "execution_count": null,
      "outputs": []
    },
    {
      "cell_type": "code",
      "source": [
        "import nltk\n",
        "from nltk.corpus import stopwords\n",
        "\n",
        "# Download stopwords if not already present\n",
        "nltk.download('stopwords')\n",
        "\n",
        "# Define stopword set\n",
        "stop_words = set(stopwords.words('english'))\n",
        "\n",
        "# Function to remove stopwords\n",
        "def remove_stopwords(text):\n",
        "    words = text.split()\n",
        "    filtered = [word for word in words if word not in stop_words]\n",
        "    return ' '.join(filtered)\n",
        "\n",
        "# Apply to cleaned text\n",
        "df['clean_text_nostop'] = df['clean_text'].apply(remove_stopwords)\n"
      ],
      "metadata": {
        "id": "Tm7R1UqvEpSb",
        "outputId": "09171181-7b75-45c6-e5f0-f8981919a7d5",
        "colab": {
          "base_uri": "https://localhost:8080/"
        }
      },
      "execution_count": 19,
      "outputs": [
        {
          "output_type": "stream",
          "name": "stderr",
          "text": [
            "[nltk_data] Downloading package stopwords to /root/nltk_data...\n",
            "[nltk_data]   Package stopwords is already up-to-date!\n"
          ]
        }
      ]
    },
    {
      "cell_type": "code",
      "source": [
        "from sklearn.model_selection import train_test_split\n",
        "from sklearn.feature_extraction.text import TfidfVectorizer\n",
        "from sklearn.linear_model import LogisticRegression\n",
        "from sklearn.metrics import classification_report\n",
        "\n",
        "# Vectorize text\n",
        "vectorizer = TfidfVectorizer()\n",
        "X = vectorizer.fit_transform(df['clean_text_nostop'])\n",
        "y = df['label']\n",
        "\n",
        "# Split data\n",
        "X_train, X_test, y_train, y_test = train_test_split(X, y, test_size=0.2, random_state=42)\n",
        "\n",
        "# Train model\n",
        "model = LogisticRegression()\n",
        "model.fit(X_train, y_train)\n",
        "\n",
        "# Predict and evaluate\n",
        "y_pred = model.predict(X_test)\n",
        "print(classification_report(y_test, y_pred))\n"
      ],
      "metadata": {
        "id": "oWgh8dGcEtmN",
        "outputId": "490f06cc-e209-4fa6-f32e-64dce688a5c7",
        "colab": {
          "base_uri": "https://localhost:8080/",
          "height": 547
        }
      },
      "execution_count": 20,
      "outputs": [
        {
          "output_type": "error",
          "ename": "KeyError",
          "evalue": "'label'",
          "traceback": [
            "\u001b[0;31m---------------------------------------------------------------------------\u001b[0m",
            "\u001b[0;31mKeyError\u001b[0m                                  Traceback (most recent call last)",
            "\u001b[0;32m/usr/local/lib/python3.11/dist-packages/pandas/core/indexes/base.py\u001b[0m in \u001b[0;36mget_loc\u001b[0;34m(self, key)\u001b[0m\n\u001b[1;32m   3804\u001b[0m         \u001b[0;32mtry\u001b[0m\u001b[0;34m:\u001b[0m\u001b[0;34m\u001b[0m\u001b[0;34m\u001b[0m\u001b[0m\n\u001b[0;32m-> 3805\u001b[0;31m             \u001b[0;32mreturn\u001b[0m \u001b[0mself\u001b[0m\u001b[0;34m.\u001b[0m\u001b[0m_engine\u001b[0m\u001b[0;34m.\u001b[0m\u001b[0mget_loc\u001b[0m\u001b[0;34m(\u001b[0m\u001b[0mcasted_key\u001b[0m\u001b[0;34m)\u001b[0m\u001b[0;34m\u001b[0m\u001b[0;34m\u001b[0m\u001b[0m\n\u001b[0m\u001b[1;32m   3806\u001b[0m         \u001b[0;32mexcept\u001b[0m \u001b[0mKeyError\u001b[0m \u001b[0;32mas\u001b[0m \u001b[0merr\u001b[0m\u001b[0;34m:\u001b[0m\u001b[0;34m\u001b[0m\u001b[0;34m\u001b[0m\u001b[0m\n",
            "\u001b[0;32mindex.pyx\u001b[0m in \u001b[0;36mpandas._libs.index.IndexEngine.get_loc\u001b[0;34m()\u001b[0m\n",
            "\u001b[0;32mindex.pyx\u001b[0m in \u001b[0;36mpandas._libs.index.IndexEngine.get_loc\u001b[0;34m()\u001b[0m\n",
            "\u001b[0;32mpandas/_libs/hashtable_class_helper.pxi\u001b[0m in \u001b[0;36mpandas._libs.hashtable.PyObjectHashTable.get_item\u001b[0;34m()\u001b[0m\n",
            "\u001b[0;32mpandas/_libs/hashtable_class_helper.pxi\u001b[0m in \u001b[0;36mpandas._libs.hashtable.PyObjectHashTable.get_item\u001b[0;34m()\u001b[0m\n",
            "\u001b[0;31mKeyError\u001b[0m: 'label'",
            "\nThe above exception was the direct cause of the following exception:\n",
            "\u001b[0;31mKeyError\u001b[0m                                  Traceback (most recent call last)",
            "\u001b[0;32m/tmp/ipython-input-20-2029137677.py\u001b[0m in \u001b[0;36m<cell line: 0>\u001b[0;34m()\u001b[0m\n\u001b[1;32m      7\u001b[0m \u001b[0mvectorizer\u001b[0m \u001b[0;34m=\u001b[0m \u001b[0mTfidfVectorizer\u001b[0m\u001b[0;34m(\u001b[0m\u001b[0;34m)\u001b[0m\u001b[0;34m\u001b[0m\u001b[0;34m\u001b[0m\u001b[0m\n\u001b[1;32m      8\u001b[0m \u001b[0mX\u001b[0m \u001b[0;34m=\u001b[0m \u001b[0mvectorizer\u001b[0m\u001b[0;34m.\u001b[0m\u001b[0mfit_transform\u001b[0m\u001b[0;34m(\u001b[0m\u001b[0mdf\u001b[0m\u001b[0;34m[\u001b[0m\u001b[0;34m'clean_text_nostop'\u001b[0m\u001b[0;34m]\u001b[0m\u001b[0;34m)\u001b[0m\u001b[0;34m\u001b[0m\u001b[0;34m\u001b[0m\u001b[0m\n\u001b[0;32m----> 9\u001b[0;31m \u001b[0my\u001b[0m \u001b[0;34m=\u001b[0m \u001b[0mdf\u001b[0m\u001b[0;34m[\u001b[0m\u001b[0;34m'label'\u001b[0m\u001b[0;34m]\u001b[0m\u001b[0;34m\u001b[0m\u001b[0;34m\u001b[0m\u001b[0m\n\u001b[0m\u001b[1;32m     10\u001b[0m \u001b[0;34m\u001b[0m\u001b[0m\n\u001b[1;32m     11\u001b[0m \u001b[0;31m# Split data\u001b[0m\u001b[0;34m\u001b[0m\u001b[0;34m\u001b[0m\u001b[0m\n",
            "\u001b[0;32m/usr/local/lib/python3.11/dist-packages/pandas/core/frame.py\u001b[0m in \u001b[0;36m__getitem__\u001b[0;34m(self, key)\u001b[0m\n\u001b[1;32m   4100\u001b[0m             \u001b[0;32mif\u001b[0m \u001b[0mself\u001b[0m\u001b[0;34m.\u001b[0m\u001b[0mcolumns\u001b[0m\u001b[0;34m.\u001b[0m\u001b[0mnlevels\u001b[0m \u001b[0;34m>\u001b[0m \u001b[0;36m1\u001b[0m\u001b[0;34m:\u001b[0m\u001b[0;34m\u001b[0m\u001b[0;34m\u001b[0m\u001b[0m\n\u001b[1;32m   4101\u001b[0m                 \u001b[0;32mreturn\u001b[0m \u001b[0mself\u001b[0m\u001b[0;34m.\u001b[0m\u001b[0m_getitem_multilevel\u001b[0m\u001b[0;34m(\u001b[0m\u001b[0mkey\u001b[0m\u001b[0;34m)\u001b[0m\u001b[0;34m\u001b[0m\u001b[0;34m\u001b[0m\u001b[0m\n\u001b[0;32m-> 4102\u001b[0;31m             \u001b[0mindexer\u001b[0m \u001b[0;34m=\u001b[0m \u001b[0mself\u001b[0m\u001b[0;34m.\u001b[0m\u001b[0mcolumns\u001b[0m\u001b[0;34m.\u001b[0m\u001b[0mget_loc\u001b[0m\u001b[0;34m(\u001b[0m\u001b[0mkey\u001b[0m\u001b[0;34m)\u001b[0m\u001b[0;34m\u001b[0m\u001b[0;34m\u001b[0m\u001b[0m\n\u001b[0m\u001b[1;32m   4103\u001b[0m             \u001b[0;32mif\u001b[0m \u001b[0mis_integer\u001b[0m\u001b[0;34m(\u001b[0m\u001b[0mindexer\u001b[0m\u001b[0;34m)\u001b[0m\u001b[0;34m:\u001b[0m\u001b[0;34m\u001b[0m\u001b[0;34m\u001b[0m\u001b[0m\n\u001b[1;32m   4104\u001b[0m                 \u001b[0mindexer\u001b[0m \u001b[0;34m=\u001b[0m \u001b[0;34m[\u001b[0m\u001b[0mindexer\u001b[0m\u001b[0;34m]\u001b[0m\u001b[0;34m\u001b[0m\u001b[0;34m\u001b[0m\u001b[0m\n",
            "\u001b[0;32m/usr/local/lib/python3.11/dist-packages/pandas/core/indexes/base.py\u001b[0m in \u001b[0;36mget_loc\u001b[0;34m(self, key)\u001b[0m\n\u001b[1;32m   3810\u001b[0m             ):\n\u001b[1;32m   3811\u001b[0m                 \u001b[0;32mraise\u001b[0m \u001b[0mInvalidIndexError\u001b[0m\u001b[0;34m(\u001b[0m\u001b[0mkey\u001b[0m\u001b[0;34m)\u001b[0m\u001b[0;34m\u001b[0m\u001b[0;34m\u001b[0m\u001b[0m\n\u001b[0;32m-> 3812\u001b[0;31m             \u001b[0;32mraise\u001b[0m \u001b[0mKeyError\u001b[0m\u001b[0;34m(\u001b[0m\u001b[0mkey\u001b[0m\u001b[0;34m)\u001b[0m \u001b[0;32mfrom\u001b[0m \u001b[0merr\u001b[0m\u001b[0;34m\u001b[0m\u001b[0;34m\u001b[0m\u001b[0m\n\u001b[0m\u001b[1;32m   3813\u001b[0m         \u001b[0;32mexcept\u001b[0m \u001b[0mTypeError\u001b[0m\u001b[0;34m:\u001b[0m\u001b[0;34m\u001b[0m\u001b[0;34m\u001b[0m\u001b[0m\n\u001b[1;32m   3814\u001b[0m             \u001b[0;31m# If we have a listlike key, _check_indexing_error will raise\u001b[0m\u001b[0;34m\u001b[0m\u001b[0;34m\u001b[0m\u001b[0m\n",
            "\u001b[0;31mKeyError\u001b[0m: 'label'"
          ]
        }
      ]
    },
    {
      "cell_type": "code",
      "source": [
        "# Save cleaned data\n",
        "df[['clean_text', 'label']].dropna().to_csv('cleaned_reviews.csv', index=False)"
      ],
      "metadata": {
        "id": "VSjgRLa4zv9B",
        "colab": {
          "base_uri": "https://localhost:8080/",
          "height": 304
        },
        "outputId": "d9ea3536-51c8-4eaf-9be7-44955850eb27"
      },
      "execution_count": 18,
      "outputs": [
        {
          "output_type": "error",
          "ename": "KeyError",
          "evalue": "\"['label'] not in index\"",
          "traceback": [
            "\u001b[0;31m---------------------------------------------------------------------------\u001b[0m",
            "\u001b[0;31mKeyError\u001b[0m                                  Traceback (most recent call last)",
            "\u001b[0;32m/tmp/ipython-input-18-1101087539.py\u001b[0m in \u001b[0;36m<cell line: 0>\u001b[0;34m()\u001b[0m\n\u001b[1;32m      1\u001b[0m \u001b[0;31m# Save cleaned data\u001b[0m\u001b[0;34m\u001b[0m\u001b[0;34m\u001b[0m\u001b[0m\n\u001b[0;32m----> 2\u001b[0;31m \u001b[0mdf\u001b[0m\u001b[0;34m[\u001b[0m\u001b[0;34m[\u001b[0m\u001b[0;34m'clean_text'\u001b[0m\u001b[0;34m,\u001b[0m \u001b[0;34m'label'\u001b[0m\u001b[0;34m]\u001b[0m\u001b[0;34m]\u001b[0m\u001b[0;34m.\u001b[0m\u001b[0mdropna\u001b[0m\u001b[0;34m(\u001b[0m\u001b[0;34m)\u001b[0m\u001b[0;34m.\u001b[0m\u001b[0mto_csv\u001b[0m\u001b[0;34m(\u001b[0m\u001b[0;34m'cleaned_reviews.csv'\u001b[0m\u001b[0;34m,\u001b[0m \u001b[0mindex\u001b[0m\u001b[0;34m=\u001b[0m\u001b[0;32mFalse\u001b[0m\u001b[0;34m)\u001b[0m\u001b[0;34m\u001b[0m\u001b[0;34m\u001b[0m\u001b[0m\n\u001b[0m",
            "\u001b[0;32m/usr/local/lib/python3.11/dist-packages/pandas/core/frame.py\u001b[0m in \u001b[0;36m__getitem__\u001b[0;34m(self, key)\u001b[0m\n\u001b[1;32m   4106\u001b[0m             \u001b[0;32mif\u001b[0m \u001b[0mis_iterator\u001b[0m\u001b[0;34m(\u001b[0m\u001b[0mkey\u001b[0m\u001b[0;34m)\u001b[0m\u001b[0;34m:\u001b[0m\u001b[0;34m\u001b[0m\u001b[0;34m\u001b[0m\u001b[0m\n\u001b[1;32m   4107\u001b[0m                 \u001b[0mkey\u001b[0m \u001b[0;34m=\u001b[0m \u001b[0mlist\u001b[0m\u001b[0;34m(\u001b[0m\u001b[0mkey\u001b[0m\u001b[0;34m)\u001b[0m\u001b[0;34m\u001b[0m\u001b[0;34m\u001b[0m\u001b[0m\n\u001b[0;32m-> 4108\u001b[0;31m             \u001b[0mindexer\u001b[0m \u001b[0;34m=\u001b[0m \u001b[0mself\u001b[0m\u001b[0;34m.\u001b[0m\u001b[0mcolumns\u001b[0m\u001b[0;34m.\u001b[0m\u001b[0m_get_indexer_strict\u001b[0m\u001b[0;34m(\u001b[0m\u001b[0mkey\u001b[0m\u001b[0;34m,\u001b[0m \u001b[0;34m\"columns\"\u001b[0m\u001b[0;34m)\u001b[0m\u001b[0;34m[\u001b[0m\u001b[0;36m1\u001b[0m\u001b[0;34m]\u001b[0m\u001b[0;34m\u001b[0m\u001b[0;34m\u001b[0m\u001b[0m\n\u001b[0m\u001b[1;32m   4109\u001b[0m \u001b[0;34m\u001b[0m\u001b[0m\n\u001b[1;32m   4110\u001b[0m         \u001b[0;31m# take() does not accept boolean indexers\u001b[0m\u001b[0;34m\u001b[0m\u001b[0;34m\u001b[0m\u001b[0m\n",
            "\u001b[0;32m/usr/local/lib/python3.11/dist-packages/pandas/core/indexes/base.py\u001b[0m in \u001b[0;36m_get_indexer_strict\u001b[0;34m(self, key, axis_name)\u001b[0m\n\u001b[1;32m   6198\u001b[0m             \u001b[0mkeyarr\u001b[0m\u001b[0;34m,\u001b[0m \u001b[0mindexer\u001b[0m\u001b[0;34m,\u001b[0m \u001b[0mnew_indexer\u001b[0m \u001b[0;34m=\u001b[0m \u001b[0mself\u001b[0m\u001b[0;34m.\u001b[0m\u001b[0m_reindex_non_unique\u001b[0m\u001b[0;34m(\u001b[0m\u001b[0mkeyarr\u001b[0m\u001b[0;34m)\u001b[0m\u001b[0;34m\u001b[0m\u001b[0;34m\u001b[0m\u001b[0m\n\u001b[1;32m   6199\u001b[0m \u001b[0;34m\u001b[0m\u001b[0m\n\u001b[0;32m-> 6200\u001b[0;31m         \u001b[0mself\u001b[0m\u001b[0;34m.\u001b[0m\u001b[0m_raise_if_missing\u001b[0m\u001b[0;34m(\u001b[0m\u001b[0mkeyarr\u001b[0m\u001b[0;34m,\u001b[0m \u001b[0mindexer\u001b[0m\u001b[0;34m,\u001b[0m \u001b[0maxis_name\u001b[0m\u001b[0;34m)\u001b[0m\u001b[0;34m\u001b[0m\u001b[0;34m\u001b[0m\u001b[0m\n\u001b[0m\u001b[1;32m   6201\u001b[0m \u001b[0;34m\u001b[0m\u001b[0m\n\u001b[1;32m   6202\u001b[0m         \u001b[0mkeyarr\u001b[0m \u001b[0;34m=\u001b[0m \u001b[0mself\u001b[0m\u001b[0;34m.\u001b[0m\u001b[0mtake\u001b[0m\u001b[0;34m(\u001b[0m\u001b[0mindexer\u001b[0m\u001b[0;34m)\u001b[0m\u001b[0;34m\u001b[0m\u001b[0;34m\u001b[0m\u001b[0m\n",
            "\u001b[0;32m/usr/local/lib/python3.11/dist-packages/pandas/core/indexes/base.py\u001b[0m in \u001b[0;36m_raise_if_missing\u001b[0;34m(self, key, indexer, axis_name)\u001b[0m\n\u001b[1;32m   6250\u001b[0m \u001b[0;34m\u001b[0m\u001b[0m\n\u001b[1;32m   6251\u001b[0m             \u001b[0mnot_found\u001b[0m \u001b[0;34m=\u001b[0m \u001b[0mlist\u001b[0m\u001b[0;34m(\u001b[0m\u001b[0mensure_index\u001b[0m\u001b[0;34m(\u001b[0m\u001b[0mkey\u001b[0m\u001b[0;34m)\u001b[0m\u001b[0;34m[\u001b[0m\u001b[0mmissing_mask\u001b[0m\u001b[0;34m.\u001b[0m\u001b[0mnonzero\u001b[0m\u001b[0;34m(\u001b[0m\u001b[0;34m)\u001b[0m\u001b[0;34m[\u001b[0m\u001b[0;36m0\u001b[0m\u001b[0;34m]\u001b[0m\u001b[0;34m]\u001b[0m\u001b[0;34m.\u001b[0m\u001b[0munique\u001b[0m\u001b[0;34m(\u001b[0m\u001b[0;34m)\u001b[0m\u001b[0;34m)\u001b[0m\u001b[0;34m\u001b[0m\u001b[0;34m\u001b[0m\u001b[0m\n\u001b[0;32m-> 6252\u001b[0;31m             \u001b[0;32mraise\u001b[0m \u001b[0mKeyError\u001b[0m\u001b[0;34m(\u001b[0m\u001b[0;34mf\"{not_found} not in index\"\u001b[0m\u001b[0;34m)\u001b[0m\u001b[0;34m\u001b[0m\u001b[0;34m\u001b[0m\u001b[0m\n\u001b[0m\u001b[1;32m   6253\u001b[0m \u001b[0;34m\u001b[0m\u001b[0m\n\u001b[1;32m   6254\u001b[0m     \u001b[0;34m@\u001b[0m\u001b[0moverload\u001b[0m\u001b[0;34m\u001b[0m\u001b[0;34m\u001b[0m\u001b[0m\n",
            "\u001b[0;31mKeyError\u001b[0m: \"['label'] not in index\""
          ]
        }
      ]
    },
    {
      "cell_type": "code",
      "source": [
        "# View the first few rows and header of the cleaned CSV\n",
        "df_cleaned = pd.read_csv('cleaned_reviews.csv')\n",
        "print(\"\\nCleaned Reviews Header and first few rows:\")\n",
        "print(df_cleaned.head())"
      ],
      "metadata": {
        "id": "QK_7IHWCy_pl"
      },
      "execution_count": null,
      "outputs": []
    },
    {
      "cell_type": "code",
      "source": [
        "import matplotlib.pyplot as plt\n",
        "\n",
        "df_cleaned['label'].value_counts().plot(kind='bar', color=['red', 'green'])\n",
        "plt.xticks([0, 1], ['Negative', 'Positive'], rotation=0)\n",
        "plt.title('Sentiment Distribution')\n",
        "plt.ylabel('Count')\n",
        "plt.show()\n"
      ],
      "metadata": {
        "id": "dsGqA-8XzG_x"
      },
      "execution_count": null,
      "outputs": []
    },
    {
      "cell_type": "markdown",
      "source": [
        "Representation - Tokenization"
      ],
      "metadata": {
        "id": "3o6DtwXv9q_5"
      }
    },
    {
      "cell_type": "code",
      "source": [
        "import pandas as pd\n",
        "from transformers import AutoTokenizer\n",
        "from sklearn.model_selection import train_test_split\n",
        "import torch\n",
        "\n",
        "# Load cleaned data\n",
        "df = pd.read_csv('cleaned_reviews.csv')\n",
        "\n",
        "# Train-test split\n",
        "X_train, X_test, y_train, y_test = train_test_split(df['clean_text'], df['label'], test_size=0.2, random_state=42)\n",
        "\n",
        "# Tokenizer\n",
        "tokenizer = AutoTokenizer.from_pretrained(\"bert-base-uncased\")\n",
        "\n",
        "train_encodings = tokenizer(list(X_train), truncation=True, padding=True, return_tensors=\"pt\")\n",
        "test_encodings = tokenizer(list(X_test), truncation=True, padding=True, return_tensors=\"pt\")\n",
        "\n",
        "train_labels = torch.tensor(y_train.values)\n",
        "test_labels = torch.tensor(y_test.values)\n",
        "\n",
        "# Save for next step\n",
        "torch.save((train_encodings, train_labels), 'train_data.pt')\n",
        "torch.save((test_encodings, test_labels), 'test_data.pt')\n"
      ],
      "metadata": {
        "id": "emnqZ5Z49qxP"
      },
      "execution_count": null,
      "outputs": []
    },
    {
      "cell_type": "markdown",
      "source": [
        "3- Pretrained_Model"
      ],
      "metadata": {
        "id": "RAdJYbgU9187"
      }
    },
    {
      "cell_type": "code",
      "source": [
        "from transformers import AutoModelForSequenceClassification\n",
        "\n",
        "# Load BERT for binary classification\n",
        "model = AutoModelForSequenceClassification.from_pretrained(\"bert-base-uncased\", num_labels=2)\n"
      ],
      "metadata": {
        "id": "wXpKVj2I99Po"
      },
      "execution_count": null,
      "outputs": []
    },
    {
      "cell_type": "markdown",
      "source": [
        "# 4. **Optimization**"
      ],
      "metadata": {
        "id": "sTB8pPaz-SkG"
      }
    },
    {
      "cell_type": "code",
      "source": [
        "import torch\n",
        "from torch.utils.data import Dataset, DataLoader\n",
        "from torch.optim import AdamW\n",
        "from sklearn.metrics import accuracy_score\n",
        "from transformers import AutoModelForSequenceClassification\n"
      ],
      "metadata": {
        "id": "WOW-XvS5-Akp"
      },
      "execution_count": null,
      "outputs": []
    },
    {
      "cell_type": "code",
      "source": [
        "\n",
        "# Set random seed for reproducibility\n",
        "torch.manual_seed(42)\n"
      ],
      "metadata": {
        "id": "4K0di4a7BPs7"
      },
      "execution_count": null,
      "outputs": []
    },
    {
      "cell_type": "code",
      "source": [
        "\n",
        "# Load data (ensure weights_only=False for PyTorch 2.6+)\n",
        "train_encodings, train_labels = torch.load('train_data.pt', weights_only=False)\n",
        "test_encodings, test_labels = torch.load('test_data.pt', weights_only=False)\n"
      ],
      "metadata": {
        "id": "opLCyJlqBXyV"
      },
      "execution_count": null,
      "outputs": []
    },
    {
      "cell_type": "code",
      "source": [
        "# Dataset class\n",
        "class ReviewDataset(Dataset):\n",
        "    def __init__(self, encodings, labels):\n",
        "        self.encodings = encodings\n",
        "        self.labels = labels\n",
        "    def __getitem__(self, idx):\n",
        "        return {\n",
        "            'input_ids': self.encodings['input_ids'][idx],\n",
        "            'attention_mask': self.encodings['attention_mask'][idx],\n",
        "            'labels': self.labels[idx]\n",
        "        }\n",
        "    def __len__(self):\n",
        "        return len(self.labels)\n",
        "\n"
      ],
      "metadata": {
        "id": "9y41bfB-Ba_z"
      },
      "execution_count": null,
      "outputs": []
    },
    {
      "cell_type": "code",
      "source": [
        "# Create datasets and loaders\n",
        "train_dataset = ReviewDataset(train_encodings, train_labels)\n",
        "test_dataset = ReviewDataset(test_encodings, test_labels)\n",
        "\n",
        "train_loader = DataLoader(train_dataset, batch_size=8, shuffle=True)\n",
        "test_loader = DataLoader(test_dataset, batch_size=8)\n",
        "\n"
      ],
      "metadata": {
        "id": "I6znaWP6BjQD"
      },
      "execution_count": null,
      "outputs": []
    },
    {
      "cell_type": "code",
      "source": [
        "# Load model\n",
        "device = torch.device(\"cuda\" if torch.cuda.is_available() else \"cpu\")\n",
        "model = AutoModelForSequenceClassification.from_pretrained(\"bert-base-uncased\", num_labels=2)\n",
        "model.to(device)\n",
        "\n",
        "# Optimizer\n",
        "optimizer = AdamW(model.parameters(), lr=5e-5)\n",
        "\n"
      ],
      "metadata": {
        "id": "ATqf8WF2BmN_"
      },
      "execution_count": null,
      "outputs": []
    },
    {
      "cell_type": "code",
      "source": [
        "import torch\n",
        "from torch.utils.data import Dataset, DataLoader\n",
        "from transformers import AutoTokenizer, AutoModelForSequenceClassification\n",
        "from torch.optim import AdamW\n",
        "from sklearn.metrics import accuracy_score\n",
        "\n",
        "# Load tokenized data (make sure you saved it with weights_only=False)\n",
        "train_encodings, train_labels = torch.load('train_data.pt', weights_only=False)\n",
        "test_encodings, test_labels = torch.load('test_data.pt', weights_only=False)\n",
        "\n",
        "# Define custom dataset\n",
        "class ReviewDataset(Dataset):\n",
        "    def __init__(self, encodings, labels):\n",
        "        self.encodings = encodings\n",
        "        self.labels = labels\n",
        "    def __getitem__(self, idx):\n",
        "        return {\n",
        "            'input_ids': self.encodings['input_ids'][idx],\n",
        "            'attention_mask': self.encodings['attention_mask'][idx],\n",
        "            'labels': self.labels[idx]\n",
        "        }\n",
        "    def __len__(self):\n",
        "        return len(self.labels)\n",
        "\n",
        "# Create dataset objects\n",
        "train_dataset = ReviewDataset(train_encodings, train_labels)\n",
        "test_dataset = ReviewDataset(test_encodings, test_labels)\n",
        "\n",
        "# ✅ Reduce batch size to avoid memory issues\n",
        "train_loader = DataLoader(train_dataset, batch_size=4, shuffle=True)\n",
        "test_loader = DataLoader(test_dataset, batch_size=4)\n",
        "\n",
        "# Load model\n",
        "device = torch.device(\"cuda\" if torch.cuda.is_available() else \"cpu\")\n",
        "model = AutoModelForSequenceClassification.from_pretrained(\"bert-base-uncased\", num_labels=2)\n",
        "model.to(device)\n",
        "\n",
        "# Optimizer\n",
        "optimizer = AdamW(model.parameters(), lr=5e-5)\n"
      ],
      "metadata": {
        "id": "twoFizhoCxjE"
      },
      "execution_count": null,
      "outputs": []
    },
    {
      "cell_type": "markdown",
      "source": [],
      "metadata": {
        "id": "UFwPGUHSCxSV"
      }
    },
    {
      "cell_type": "code",
      "source": [
        "# Evaluation\n",
        "model.eval()\n",
        "preds, true_labels = [], []\n",
        "with torch.no_grad():\n",
        "    for batch in test_loader:\n",
        "        input_ids = batch['input_ids'].to(device)\n",
        "        attention_mask = batch['attention_mask'].to(device)\n",
        "        labels = batch['labels'].to(device)\n",
        "\n",
        "        outputs = model(input_ids, attention_mask=attention_mask)\n",
        "        predictions = torch.argmax(outputs.logits, dim=-1)\n",
        "        preds.extend(predictions.cpu().numpy())\n",
        "        true_labels.extend"
      ],
      "metadata": {
        "id": "_6ImDlkuBsGo"
      },
      "execution_count": null,
      "outputs": []
    },
    {
      "cell_type": "markdown",
      "source": [
        "## 5. ***deployment***"
      ],
      "metadata": {
        "id": "gkbb14q7_fP1"
      }
    },
    {
      "cell_type": "code",
      "source": [
        "import torch\n",
        "from transformers import AutoTokenizer, AutoModelForSequenceClassification\n",
        "\n",
        "# Load tokenizer and model\n",
        "tokenizer = AutoTokenizer.from_pretrained(\"bert-base-uncased\")\n",
        "model = AutoModelForSequenceClassification.from_pretrained(\"bert-base-uncased\", num_labels=2)\n",
        "\n",
        "# Load trained weights if saved\n",
        "# model.load_state_dict(torch.load(\"model.pt\"))  # Optional\n",
        "\n",
        "device = torch.device(\"cuda\" if torch.cuda.is_available() else \"cpu\")\n",
        "model.to(device)\n",
        "model.eval()\n"
      ],
      "metadata": {
        "id": "jcd0tU6d_cqS"
      },
      "execution_count": null,
      "outputs": []
    }
  ],
  "metadata": {
    "language_info": {
      "name": "python"
    },
    "orig_nbformat": 4,
    "colab": {
      "provenance": []
    },
    "kernelspec": {
      "name": "python3",
      "display_name": "Python 3"
    }
  },
  "nbformat": 4,
  "nbformat_minor": 0
}